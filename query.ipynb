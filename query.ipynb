{
 "cells": [
  {
   "cell_type": "code",
   "execution_count": 1,
   "metadata": {},
   "outputs": [],
   "source": [
    "import pandas as pd\n",
    "from java_functions import single_default\n",
    "import pprint"
   ]
  },
  {
   "attachments": {},
   "cell_type": "markdown",
   "metadata": {},
   "source": [
    "### Variables"
   ]
  },
  {
   "cell_type": "code",
   "execution_count": 2,
   "metadata": {},
   "outputs": [],
   "source": [
    "dbSchema = \"dummy_zone\"\n",
    "currentTableName = \"dummy_mis006\"\n",
    "error_code_option = \"mandatory\"\n",
    "rule_code = \"RC_dummy_1\"\n",
    "\n",
    "mainTable = \"dummy_mis006\"\n",
    "subTable = \"dummy_tcs_jfacif\"\n",
    "# subTable = \"\"\n",
    "dependencyTable = \"\"\n",
    "# dependencyTable = \"\"\n",
    "\n",
    "mainColumn = \"M_STCODE,M_POSTCODE\"\n",
    "subColumn = \"POSTCODE\"\n",
    "dependencyColumn = \"dummy_dep_column\"\n",
    "\n",
    "# main_query = \"(`main_column` is null)\"\n",
    "# main_query = \"(`main_column` is null or `main_column` = '')\"\n",
    "main_query = \"(`main_table`.`main_column` = '')\"\n",
    "sub_query = \"`_uuid` in (select `subTable`.`_uuid` from `dbSchema`.`subTable` where `subTable`.`subcolumn` is not null or `subTable`.`subcolumn` != '')\"\n",
    "# sub_query = \"(select `sub_column` from \"+dbSchema+\".subtable where `sub_column` is not null)\"\n",
    "dependency_query = \"\"\n",
    "# dependency_query = \"(`dependency_column` = '')\"\n"
   ]
  },
  {
   "cell_type": "code",
   "execution_count": 3,
   "metadata": {},
   "outputs": [
    {
     "name": "stdout",
     "output_type": "stream",
     "text": [
      "`_uuid` in (select `subTable`.`_uuid` from `dbSchema`.`subTable` where `subTable`.`subcolumn` is not null or `subTable`.`subcolumn` != '')\n",
      "\n"
     ]
    }
   ],
   "source": [
    "updateQuery = single_default(dbSchema, currentTableName, error_code_option, rule_code,\n",
    "                             mainTable, subTable, dependencyTable, mainColumn, subColumn, dependencyColumn, \n",
    "                             main_query, sub_query, dependency_query)"
   ]
  },
  {
   "cell_type": "code",
   "execution_count": 4,
   "metadata": {},
   "outputs": [
    {
     "name": "stdout",
     "output_type": "stream",
     "text": [
      "update dummy_zone.dummy_mis006 set `_dq_error_code_mandatory` ='RC_dummy_1' where ((`main_table`.`M_STCODE` = '') and (`main_table`.`M_POSTCODE` = '')) and (`_uuid` in (select `subTable`.`_uuid` from `dbSchema`.`subTable` where `subTable`.`subcolumn` is not null or `subTable`.`subcolumn` != ''))\n"
     ]
    }
   ],
   "source": [
    "print(updateQuery)"
   ]
  },
  {
   "cell_type": "code",
   "execution_count": null,
   "metadata": {},
   "outputs": [],
   "source": []
  },
  {
   "cell_type": "code",
   "execution_count": null,
   "metadata": {},
   "outputs": [],
   "source": []
  },
  {
   "cell_type": "code",
   "execution_count": null,
   "metadata": {},
   "outputs": [],
   "source": []
  },
  {
   "cell_type": "code",
   "execution_count": null,
   "metadata": {},
   "outputs": [],
   "source": []
  },
  {
   "cell_type": "code",
   "execution_count": null,
   "metadata": {},
   "outputs": [],
   "source": []
  }
 ],
 "metadata": {
  "kernelspec": {
   "display_name": "esb",
   "language": "python",
   "name": "python3"
  },
  "language_info": {
   "codemirror_mode": {
    "name": "ipython",
    "version": 3
   },
   "file_extension": ".py",
   "mimetype": "text/x-python",
   "name": "python",
   "nbconvert_exporter": "python",
   "pygments_lexer": "ipython3",
   "version": "3.10.4"
  },
  "orig_nbformat": 4
 },
 "nbformat": 4,
 "nbformat_minor": 2
}
