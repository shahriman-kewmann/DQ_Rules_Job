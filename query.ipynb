{
 "cells": [
  {
   "cell_type": "code",
   "execution_count": 1,
   "metadata": {},
   "outputs": [],
   "source": [
    "import pandas as pd\n",
    "from java_functions import RC_SCPB, RC_MCPB\n",
    "import pprint"
   ]
  },
  {
   "attachments": {},
   "cell_type": "markdown",
   "metadata": {},
   "source": [
    "### Variables"
   ]
  },
  {
   "cell_type": "code",
   "execution_count": 2,
   "metadata": {},
   "outputs": [],
   "source": [
    "dbSchema = \"dummy_zone\"\n",
    "currentTableName = \"dummy_mis006\" #change this\n",
    "error_code_option = \"mandatory\"\n",
    "rule_code = \"RC_dummy_1\"\n",
    "\n",
    "mainTable = \"dummy_mis006\"\n",
    "subTable = \"dummy_tcs_jfacif\"\n",
    "# subTable = \"\"\n",
    "dependencyTable = \"\"\n",
    "# dependencyTable = \"\"\n",
    "\n",
    "mainColumn = \"dummy_mis006.M_STCODE,dummy_mis006.M_POSTCODE\"\n",
    "subColumn = \"dummy_tcs_jfacif.POSTCODE\"\n",
    "dependencyColumn = \"\"\n",
    "\n",
    "main_query = \"(main_column = '')\"\n",
    "main_query1 = \"(main_column1 = '') or (main_column2 = '')\"\n",
    "sub_query = \"(`_uuid` in (select subTable.`_uuid` from dbSchema.subTable where subColumn is not null or subTable.subColumn != ''))\"\n",
    "sub_query1 = \"(`_uuid` in (select subTable.`_uuid` from dbSchema.subTable where subColumn is not null or subTable.subColumn != ''))\"\n",
    "dependency_query = \"\"\n",
    "dependency_query1 = \"\""
   ]
  },
  {
   "cell_type": "code",
   "execution_count": 3,
   "metadata": {},
   "outputs": [],
   "source": [
    "#single column per bracket implicit\n",
    "updateQuery = RC_SCPB(dbSchema, currentTableName, error_code_option, rule_code,\n",
    "                      mainTable, subTable, dependencyTable, mainColumn, subColumn, dependencyColumn, \n",
    "                      main_query, sub_query, dependency_query)\n",
    "\n",
    "#multiple column per bracket explicit\n",
    "updateQuery1 = RC_MCPB(dbSchema, currentTableName, error_code_option, rule_code,\n",
    "                       mainTable, subTable, dependencyTable, mainColumn, subColumn, dependencyColumn, \n",
    "                       main_query1, sub_query1, dependency_query1)"
   ]
  },
  {
   "cell_type": "code",
   "execution_count": 4,
   "metadata": {},
   "outputs": [
    {
     "name": "stdout",
     "output_type": "stream",
     "text": [
      "update dummy_zone.dummy_mis006 set `_dq_error_code_mandatory` ='RC_dummy_1' where ((dummy_mis006.M_STCODE = '') and (dummy_mis006.M_POSTCODE = '')) and (`_uuid` in (select subTable.`_uuid` from dbSchema.subTable where subColumn is not null or subTable.subColumn != ''))\n"
     ]
    }
   ],
   "source": [
    "print(updateQuery)"
   ]
  },
  {
   "cell_type": "code",
   "execution_count": 5,
   "metadata": {},
   "outputs": [
    {
     "name": "stdout",
     "output_type": "stream",
     "text": [
      "update dummy_zone.dummy_mis006 set `_dq_error_code_mandatory` ='RC_dummy_1' where ((dummy_mis006.M_STCODE = '') or (dummy_mis006.M_POSTCODE = '')) and (`_uuid` in (select subTable.`_uuid` from dbSchema.subTable where subColumn is not null or subTable.subColumn != ''))\n"
     ]
    }
   ],
   "source": [
    "print(updateQuery1)"
   ]
  },
  {
   "cell_type": "code",
   "execution_count": null,
   "metadata": {},
   "outputs": [],
   "source": []
  },
  {
   "cell_type": "code",
   "execution_count": null,
   "metadata": {},
   "outputs": [],
   "source": []
  },
  {
   "cell_type": "code",
   "execution_count": null,
   "metadata": {},
   "outputs": [],
   "source": []
  },
  {
   "cell_type": "code",
   "execution_count": null,
   "metadata": {},
   "outputs": [],
   "source": []
  }
 ],
 "metadata": {
  "kernelspec": {
   "display_name": "ambancc",
   "language": "python",
   "name": "python3"
  },
  "language_info": {
   "codemirror_mode": {
    "name": "ipython",
    "version": 3
   },
   "file_extension": ".py",
   "mimetype": "text/x-python",
   "name": "python",
   "nbconvert_exporter": "python",
   "pygments_lexer": "ipython3",
   "version": "3.10.0"
  },
  "orig_nbformat": 4,
  "vscode": {
   "interpreter": {
    "hash": "4cf0a03b6612b9ce901f27b59c7407f4214bde8336a1a645c6cce7f14475b166"
   }
  }
 },
 "nbformat": 4,
 "nbformat_minor": 2
}
