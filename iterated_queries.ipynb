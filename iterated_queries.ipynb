{
 "cells": [
  {
   "cell_type": "code",
   "execution_count": 27,
   "metadata": {},
   "outputs": [],
   "source": [
    "import pandas as pd\n",
    "from java_functions import RC_SCPB, RC_MCPB\n",
    "import pprint"
   ]
  },
  {
   "cell_type": "code",
   "execution_count": 28,
   "metadata": {},
   "outputs": [
    {
     "data": {
      "text/html": [
       "<div>\n",
       "<style scoped>\n",
       "    .dataframe tbody tr th:only-of-type {\n",
       "        vertical-align: middle;\n",
       "    }\n",
       "\n",
       "    .dataframe tbody tr th {\n",
       "        vertical-align: top;\n",
       "    }\n",
       "\n",
       "    .dataframe thead th {\n",
       "        text-align: right;\n",
       "    }\n",
       "</style>\n",
       "<table border=\"1\" class=\"dataframe\">\n",
       "  <thead>\n",
       "    <tr style=\"text-align: right;\">\n",
       "      <th></th>\n",
       "      <th>Product \\nType</th>\n",
       "      <th>TableName</th>\n",
       "      <th>Source System FIeld Name</th>\n",
       "      <th>IMPACTED FIELD FOR RULE CODE (for DQ team reference)</th>\n",
       "      <th>New_Rule_Code_Format</th>\n",
       "      <th>Data Field</th>\n",
       "      <th>Rule Description</th>\n",
       "      <th>Logic</th>\n",
       "      <th>main_table</th>\n",
       "      <th>main_column</th>\n",
       "      <th>sub_table</th>\n",
       "      <th>sub_column</th>\n",
       "      <th>dependency_table</th>\n",
       "      <th>dependency_column</th>\n",
       "      <th>rule_logic_desc</th>\n",
       "    </tr>\n",
       "    <tr>\n",
       "      <th>ï»¿Source</th>\n",
       "      <th></th>\n",
       "      <th></th>\n",
       "      <th></th>\n",
       "      <th></th>\n",
       "      <th></th>\n",
       "      <th></th>\n",
       "      <th></th>\n",
       "      <th></th>\n",
       "      <th></th>\n",
       "      <th></th>\n",
       "      <th></th>\n",
       "      <th></th>\n",
       "      <th></th>\n",
       "      <th></th>\n",
       "      <th></th>\n",
       "    </tr>\n",
       "  </thead>\n",
       "  <tbody>\n",
       "    <tr>\n",
       "      <th>AMS</th>\n",
       "      <td>_</td>\n",
       "      <td>FLACM</td>\n",
       "      <td>FLACM.FLMBGC\\nFLACM.FLMLA#</td>\n",
       "      <td>Entity Type\\nAccount Number</td>\n",
       "      <td>Acc_Number_1_AMS</td>\n",
       "      <td>Account Number</td>\n",
       "      <td>Acc Num &lt;&gt; BLANK or NULL</td>\n",
       "      <td>NaN</td>\n",
       "      <td>FLACM</td>\n",
       "      <td>FLACM.FLMLA#</td>\n",
       "      <td>NaN</td>\n",
       "      <td>NaN</td>\n",
       "      <td>NaN</td>\n",
       "      <td>NaN</td>\n",
       "      <td>Cannot be blank or null with Entity Type</td>\n",
       "    </tr>\n",
       "    <tr>\n",
       "      <th>CLS</th>\n",
       "      <td>_</td>\n",
       "      <td>CFMAST,LNMAST</td>\n",
       "      <td>CFMAST.CFCOD2\\nLNMAST.ACCTNO</td>\n",
       "      <td>Entity Type\\nAccount Number</td>\n",
       "      <td>Acc_Number_1_CLS</td>\n",
       "      <td>Account Number</td>\n",
       "      <td>Acc Num &lt;&gt; BLANK or NULL</td>\n",
       "      <td>NaN</td>\n",
       "      <td>LNMAST</td>\n",
       "      <td>LNMAST.ACCTNO</td>\n",
       "      <td>NaN</td>\n",
       "      <td>NaN</td>\n",
       "      <td>NaN</td>\n",
       "      <td>NaN</td>\n",
       "      <td>Cannot be blank or null with Entity Type</td>\n",
       "    </tr>\n",
       "    <tr>\n",
       "      <th>CPR</th>\n",
       "      <td>_</td>\n",
       "      <td>FTDWD605</td>\n",
       "      <td>FTDWD605.CB_INDIVIDUAL_ACCTNO</td>\n",
       "      <td>Entity Type\\nAccount Number</td>\n",
       "      <td>Acc_Number_1_CPR</td>\n",
       "      <td>Account Number</td>\n",
       "      <td>Acc Num &lt;&gt; BLANK or NULL</td>\n",
       "      <td>NaN</td>\n",
       "      <td>FTDWD605</td>\n",
       "      <td>FTDWD605.CB_INDIVIDUAL_ACCTNO</td>\n",
       "      <td>NaN</td>\n",
       "      <td>NaN</td>\n",
       "      <td>NaN</td>\n",
       "      <td>NaN</td>\n",
       "      <td>Cannot be blank or null with Entity Type</td>\n",
       "    </tr>\n",
       "    <tr>\n",
       "      <th>LOC</th>\n",
       "      <td>_</td>\n",
       "      <td>TB_LOC_ACCT,TB_LOC_CUST_ACCT</td>\n",
       "      <td>TB_LOC_ACCT.ACCTNO\\nTB_LOC_CUST_ACCT.CURTIDNO</td>\n",
       "      <td>Account Number\\nId number</td>\n",
       "      <td>Acc_Number_1_LOC</td>\n",
       "      <td>Account Number</td>\n",
       "      <td>Acc Num &lt;&gt; BLANK or NULL</td>\n",
       "      <td>NaN</td>\n",
       "      <td>TB_LOC_ACCT</td>\n",
       "      <td>TB_LOC_ACCT.ACCTNO</td>\n",
       "      <td>NaN</td>\n",
       "      <td>NaN</td>\n",
       "      <td>NaN</td>\n",
       "      <td>NaN</td>\n",
       "      <td>Cannot be blank or null with Entity Type</td>\n",
       "    </tr>\n",
       "    <tr>\n",
       "      <th>TCS</th>\n",
       "      <td>Loan</td>\n",
       "      <td>MIS006</td>\n",
       "      <td>MIS006.MI006_MEMB_CUST_AC</td>\n",
       "      <td>Entity Type\\nAccount Number</td>\n",
       "      <td>Acc_Number_1_TCS_1</td>\n",
       "      <td>Account Number</td>\n",
       "      <td>Acc Num &lt;&gt; BLANK or NULL</td>\n",
       "      <td>NaN</td>\n",
       "      <td>MIS006</td>\n",
       "      <td>MIS006.MI006_MEMB_CUST_AC</td>\n",
       "      <td>NaN</td>\n",
       "      <td>NaN</td>\n",
       "      <td>NaN</td>\n",
       "      <td>NaN</td>\n",
       "      <td>Cannot be blank or null with Entity Type</td>\n",
       "    </tr>\n",
       "    <tr>\n",
       "      <th>...</th>\n",
       "      <td>...</td>\n",
       "      <td>...</td>\n",
       "      <td>...</td>\n",
       "      <td>...</td>\n",
       "      <td>...</td>\n",
       "      <td>...</td>\n",
       "      <td>...</td>\n",
       "      <td>...</td>\n",
       "      <td>...</td>\n",
       "      <td>...</td>\n",
       "      <td>...</td>\n",
       "      <td>...</td>\n",
       "      <td>...</td>\n",
       "      <td>...</td>\n",
       "      <td>...</td>\n",
       "    </tr>\n",
       "    <tr>\n",
       "      <th>TCS</th>\n",
       "      <td>Deposit</td>\n",
       "      <td>MIS100</td>\n",
       "      <td>MI100_TRAN_DATE</td>\n",
       "      <td>Entity Type\\nTransaction Date</td>\n",
       "      <td>Txn_Dt_1_TCS_2</td>\n",
       "      <td>Transaction Date</td>\n",
       "      <td>Trxn Dt &lt;&gt; blank &amp; must follow SRC Dt format</td>\n",
       "      <td>NaN</td>\n",
       "      <td>MIS100</td>\n",
       "      <td>MIS100.MI100_TRAN_DATE</td>\n",
       "      <td>NaN</td>\n",
       "      <td>NaN</td>\n",
       "      <td>NaN</td>\n",
       "      <td>NaN</td>\n",
       "      <td>Cannot be blank and follow source date format ...</td>\n",
       "    </tr>\n",
       "    <tr>\n",
       "      <th>Tomswin</th>\n",
       "      <td>_</td>\n",
       "      <td>TMS_Transactions</td>\n",
       "      <td>TMS_Transactions.POSTING_DATE</td>\n",
       "      <td>Transaction Date</td>\n",
       "      <td>Txn_Dt_1_Tomswin</td>\n",
       "      <td>Transaction Date</td>\n",
       "      <td>Trxn Dt &lt;&gt; blank &amp; must follow SRC Dt format</td>\n",
       "      <td>NaN</td>\n",
       "      <td>TMS_Transactions</td>\n",
       "      <td>TMS_Transactions.POSTING_DATE</td>\n",
       "      <td>NaN</td>\n",
       "      <td>NaN</td>\n",
       "      <td>NaN</td>\n",
       "      <td>NaN</td>\n",
       "      <td>Cannot be blank and follow source date format ...</td>\n",
       "    </tr>\n",
       "    <tr>\n",
       "      <th>CLS</th>\n",
       "      <td>_</td>\n",
       "      <td>CFCOLD</td>\n",
       "      <td>CFCOLD.CCCIFN</td>\n",
       "      <td>Guarantor ID Number</td>\n",
       "      <td>Coll_Grntor_ID_1_CLS</td>\n",
       "      <td>Guarantor ID Number</td>\n",
       "      <td>Guarantor ID &lt;&gt; blank</td>\n",
       "      <td>NaN</td>\n",
       "      <td>CFCOLD</td>\n",
       "      <td>CFCOLD.CCCIFN</td>\n",
       "      <td>NaN</td>\n",
       "      <td>NaN</td>\n",
       "      <td>NaN</td>\n",
       "      <td>NaN</td>\n",
       "      <td>Cannot be blank</td>\n",
       "    </tr>\n",
       "    <tr>\n",
       "      <th>TCS</th>\n",
       "      <td>Loan</td>\n",
       "      <td>MIS006</td>\n",
       "      <td>MIS006.MI006_GAURANTOR_ID_NO</td>\n",
       "      <td>Guarantor ID Number</td>\n",
       "      <td>Coll_Grntor_ID_1_TCS</td>\n",
       "      <td>Guarantor ID Number</td>\n",
       "      <td>Guarantor ID &lt;&gt; blank</td>\n",
       "      <td>NaN</td>\n",
       "      <td>MIS006</td>\n",
       "      <td>MIS006.MI006_GAURANTOR_ID_NO</td>\n",
       "      <td>NaN</td>\n",
       "      <td>NaN</td>\n",
       "      <td>NaN</td>\n",
       "      <td>NaN</td>\n",
       "      <td>Cannot be blank</td>\n",
       "    </tr>\n",
       "    <tr>\n",
       "      <th>CLS</th>\n",
       "      <td>_</td>\n",
       "      <td>CFCOLD</td>\n",
       "      <td>CFCOLD.CCCIFN\\nCFMAST.CFSSCD</td>\n",
       "      <td>Guarantor ID Number\\nId Type</td>\n",
       "      <td>Coll_Grntor_ID_3_CLS</td>\n",
       "      <td>Guarantor ID Number</td>\n",
       "      <td>If ID Type = '0006' (NRIC), format is 12N</td>\n",
       "      <td>NaN</td>\n",
       "      <td>CFCOLD</td>\n",
       "      <td>CFCOLD.CCCIFN</td>\n",
       "      <td>CFCOLD</td>\n",
       "      <td>CFMAST.CFSSCD</td>\n",
       "      <td>NaN</td>\n",
       "      <td>NaN</td>\n",
       "      <td>Regex: digits if another column = value</td>\n",
       "    </tr>\n",
       "  </tbody>\n",
       "</table>\n",
       "<p>526 rows × 15 columns</p>\n",
       "</div>"
      ],
      "text/plain": [
       "          Product \\nType                     TableName  \\\n",
       "ï»¿Source                                                \n",
       "AMS                    _                         FLACM   \n",
       "CLS                    _                 CFMAST,LNMAST   \n",
       "CPR                    _                      FTDWD605   \n",
       "LOC                    _  TB_LOC_ACCT,TB_LOC_CUST_ACCT   \n",
       "TCS                 Loan                        MIS006   \n",
       "...                  ...                           ...   \n",
       "TCS              Deposit                        MIS100   \n",
       "Tomswin                _              TMS_Transactions   \n",
       "CLS                    _                        CFCOLD   \n",
       "TCS                 Loan                        MIS006   \n",
       "CLS                    _                        CFCOLD   \n",
       "\n",
       "                                Source System FIeld Name  \\\n",
       "ï»¿Source                                                  \n",
       "AMS                           FLACM.FLMBGC\\nFLACM.FLMLA#   \n",
       "CLS                         CFMAST.CFCOD2\\nLNMAST.ACCTNO   \n",
       "CPR                        FTDWD605.CB_INDIVIDUAL_ACCTNO   \n",
       "LOC        TB_LOC_ACCT.ACCTNO\\nTB_LOC_CUST_ACCT.CURTIDNO   \n",
       "TCS                            MIS006.MI006_MEMB_CUST_AC   \n",
       "...                                                  ...   \n",
       "TCS                                      MI100_TRAN_DATE   \n",
       "Tomswin                    TMS_Transactions.POSTING_DATE   \n",
       "CLS                                      CFCOLD.CCCIFN     \n",
       "TCS                         MIS006.MI006_GAURANTOR_ID_NO   \n",
       "CLS                         CFCOLD.CCCIFN\\nCFMAST.CFSSCD   \n",
       "\n",
       "          IMPACTED FIELD FOR RULE CODE (for DQ team reference)  \\\n",
       "ï»¿Source                                                        \n",
       "AMS                              Entity Type\\nAccount Number     \n",
       "CLS                              Entity Type\\nAccount Number     \n",
       "CPR                              Entity Type\\nAccount Number     \n",
       "LOC                                Account Number\\nId number     \n",
       "TCS                              Entity Type\\nAccount Number     \n",
       "...                                                      ...     \n",
       "TCS                            Entity Type\\nTransaction Date     \n",
       "Tomswin                                     Transaction Date     \n",
       "CLS                                      Guarantor ID Number     \n",
       "TCS                                      Guarantor ID Number     \n",
       "CLS                             Guarantor ID Number\\nId Type     \n",
       "\n",
       "           New_Rule_Code_Format           Data Field  \\\n",
       "ï»¿Source                                              \n",
       "AMS            Acc_Number_1_AMS       Account Number   \n",
       "CLS            Acc_Number_1_CLS       Account Number   \n",
       "CPR            Acc_Number_1_CPR       Account Number   \n",
       "LOC            Acc_Number_1_LOC       Account Number   \n",
       "TCS          Acc_Number_1_TCS_1       Account Number   \n",
       "...                         ...                  ...   \n",
       "TCS              Txn_Dt_1_TCS_2     Transaction Date   \n",
       "Tomswin        Txn_Dt_1_Tomswin     Transaction Date   \n",
       "CLS        Coll_Grntor_ID_1_CLS  Guarantor ID Number   \n",
       "TCS        Coll_Grntor_ID_1_TCS  Guarantor ID Number   \n",
       "CLS        Coll_Grntor_ID_3_CLS  Guarantor ID Number   \n",
       "\n",
       "                                       Rule Description Logic  \\\n",
       "ï»¿Source                                                       \n",
       "AMS                            Acc Num <> BLANK or NULL   NaN   \n",
       "CLS                            Acc Num <> BLANK or NULL   NaN   \n",
       "CPR                            Acc Num <> BLANK or NULL   NaN   \n",
       "LOC                            Acc Num <> BLANK or NULL   NaN   \n",
       "TCS                            Acc Num <> BLANK or NULL   NaN   \n",
       "...                                                 ...   ...   \n",
       "TCS        Trxn Dt <> blank & must follow SRC Dt format   NaN   \n",
       "Tomswin    Trxn Dt <> blank & must follow SRC Dt format   NaN   \n",
       "CLS                               Guarantor ID <> blank   NaN   \n",
       "TCS                               Guarantor ID <> blank   NaN   \n",
       "CLS           If ID Type = '0006' (NRIC), format is 12N   NaN   \n",
       "\n",
       "                 main_table                    main_column sub_table  \\\n",
       "ï»¿Source                                                              \n",
       "AMS                   FLACM                   FLACM.FLMLA#       NaN   \n",
       "CLS                  LNMAST                  LNMAST.ACCTNO       NaN   \n",
       "CPR                FTDWD605  FTDWD605.CB_INDIVIDUAL_ACCTNO       NaN   \n",
       "LOC             TB_LOC_ACCT             TB_LOC_ACCT.ACCTNO       NaN   \n",
       "TCS                  MIS006      MIS006.MI006_MEMB_CUST_AC       NaN   \n",
       "...                     ...                            ...       ...   \n",
       "TCS                  MIS100         MIS100.MI100_TRAN_DATE       NaN   \n",
       "Tomswin    TMS_Transactions  TMS_Transactions.POSTING_DATE       NaN   \n",
       "CLS                  CFCOLD                CFCOLD.CCCIFN         NaN   \n",
       "TCS                  MIS006   MIS006.MI006_GAURANTOR_ID_NO       NaN   \n",
       "CLS                  CFCOLD                  CFCOLD.CCCIFN    CFCOLD   \n",
       "\n",
       "              sub_column  dependency_table  dependency_column  \\\n",
       "ï»¿Source                                                       \n",
       "AMS                  NaN               NaN                NaN   \n",
       "CLS                  NaN               NaN                NaN   \n",
       "CPR                  NaN               NaN                NaN   \n",
       "LOC                  NaN               NaN                NaN   \n",
       "TCS                  NaN               NaN                NaN   \n",
       "...                  ...               ...                ...   \n",
       "TCS                  NaN               NaN                NaN   \n",
       "Tomswin              NaN               NaN                NaN   \n",
       "CLS                  NaN               NaN                NaN   \n",
       "TCS                  NaN               NaN                NaN   \n",
       "CLS        CFMAST.CFSSCD               NaN                NaN   \n",
       "\n",
       "                                             rule_logic_desc  \n",
       "ï»¿Source                                                     \n",
       "AMS                 Cannot be blank or null with Entity Type  \n",
       "CLS                 Cannot be blank or null with Entity Type  \n",
       "CPR                 Cannot be blank or null with Entity Type  \n",
       "LOC                 Cannot be blank or null with Entity Type  \n",
       "TCS                 Cannot be blank or null with Entity Type  \n",
       "...                                                      ...  \n",
       "TCS        Cannot be blank and follow source date format ...  \n",
       "Tomswin    Cannot be blank and follow source date format ...  \n",
       "CLS                                          Cannot be blank  \n",
       "TCS                                          Cannot be blank  \n",
       "CLS                  Regex: digits if another column = value  \n",
       "\n",
       "[526 rows x 15 columns]"
      ]
     },
     "execution_count": 28,
     "metadata": {},
     "output_type": "execute_result"
    }
   ],
   "source": [
    "#read the csv\n",
    "df = pd.read_csv('rule_code_config_recopy.csv',index_col=0, encoding='ISO-8859-1')\n",
    "columns_replace = ['TableName','main_table','main_column','sub_table','sub_column']\n",
    "for columns in columns_replace:\n",
    "    df[columns] = df[columns].str.replace('\\n(?!\\w|\\d)', '', regex=True).str.replace('\\n', ',')\n",
    "\n",
    "df"
   ]
  },
  {
   "attachments": {},
   "cell_type": "markdown",
   "metadata": {},
   "source": [
    "Current Table Name"
   ]
  },
  {
   "cell_type": "code",
   "execution_count": 36,
   "metadata": {},
   "outputs": [
    {
     "name": "stdout",
     "output_type": "stream",
     "text": [
      "['FLACM', 'LNMAST', 'FTDWD605', 'TB_LOC_ACCT', 'MIS006', 'MIS007', 'TMS_Accounts,TMS_Transactions', 'FLACM', 'FTDWD602', 'CLMST', 'TRN_CPDF_DBF', 'tblCustomers', 'MIS006', 'MIS007', 'TMS_Accounts', 'FATBM', 'CLMST', 'CLMST', 'TRN_CPDF_DBF', 'MIS006', 'MIS007', 'CFADDR', 'MIS022', 'CFCOLD', 'CFCOLE', 'MIS022', 'CFCOLE', 'MIS022', 'CFCOLD', 'MIS022', 'CFCOLD', 'MIS022', 'CFCOLD', 'MIS022', 'CFCOLD', 'MIS022', 'MIS022', 'MIS022', 'MIS022', 'CFCOLD', 'MIS022', 'LNBNMC', 'MIS022', 'CFCOLD', 'CFCOLD', 'CFCOLD', 'CFCOLD', 'MIS022', 'MIS022', 'CFCOLD', 'CFCOLD', 'CFMAST', 'MIS004', 'CFMAST', 'MIS004', 'CFCOLD', 'MIS022', 'CFCOLD', 'MIS022', 'MIS006', 'CFMAST', 'MIS004', 'CFMAST', 'MIS004', 'CFCOLD', 'MIS022', 'CFCOLD', 'MIS022', 'CFCOLE', 'MIS022', 'CFCOLD', 'CFCOLD', 'MIS022', 'CFCOLD', 'MIS022', 'CFMAST', 'MIS004', 'INBLPARKWF', 'MIS006', 'INBLPARKWF', 'MIS006', 'INBLPARKWF', 'MIS006', 'INBLPARKWF', 'MIS006', 'INBLPARKWF', 'MIS006', 'MIS006', 'MIS006', 'INBLPARKWF', 'MIS006', 'MIS022', 'MIS022', 'CFCOLD', 'MIS022', 'MIS022', 'CFCOLD', 'MIS006', 'MIS006', 'MIS006', 'MIS006', 'CFCOLD', 'MIS006', 'CFCOLD', 'MIS006', 'CFCOLD', 'MIS006', 'CFCOLD', 'MIS006', 'CFCOLD', 'MIS006', 'CFCOLD', 'MIS308', 'CFCOLD', 'MIS022', 'CFCOLD', 'MIS022', 'CFCOLD', 'MIS022', 'CFCOLD', 'MIS022', 'CFCOLD', 'CFCOLD', 'LNACCT', 'MIS022', 'CFCOLD', 'MIS022', 'CFCOLD', 'MIS022', 'MIS022', 'MIS022', 'CFCOLD', 'MIS022', 'CFCOLD', 'MIS006', 'CFCOLD', 'MIS022', 'MIS022', 'MIS022', 'INL131WF', 'TCS_JFALON', 'INL131WF', 'TCS_JFALON', 'INL131WF', 'TCS_JFALON', 'INL131WF', 'TCS_JFALON', 'MIS022', 'CFCOLD', 'MIS022', 'MIS022', 'MIS022', 'MIS022', 'CFCOLD', 'MIS022', 'CFCOLD', 'MIS022', 'CFCOLD', 'MIS022', 'MIS022', 'MIS022', 'MIS022', 'FLACM', 'FTDWM601', 'FTDWD613', 'CLMST', 'CLMST', 'TRN_CPDF_DBF', 'tblCustomers', 'MIS004', 'TMS_Customers,TMS_Accounts', 'FLACM', 'CFADDR', 'FTDWM601', 'FTDWD613', 'CLMST', 'CLMST', 'TRN_CPDF_DBF', 'tblCustomers', 'MIS004', 'TMS_Customers,TMS_Accounts', 'FLACM', 'CFADDR', 'FTDWD602,FTDWM601', 'FTDWD613', 'CLMST', 'CLMST', 'TRN_CPDF_DBF', 'tblCustomers', 'MIS004', 'TMS_Customers,TMS_Accounts', 'FLACM', 'CFADDR', 'FTDWM601', 'FTDWD613', 'CLMST', 'CLMST', 'TRN_CPDF_DBF', 'tblCustomers', 'MIS004', 'TMS_Customers', 'FLACM', 'FTDWM601', 'FTDWD613', 'CLMST', 'CLMST', 'tblCustomers', 'MIS004', 'TMS_Customers,TMS_Accounts', 'FLACM', 'CFADDR', 'FTDWM601', 'FTDWD613', 'CLMST', 'CLMST', 'TRN_CPDF_DBF', 'tblCustomers', 'MIS004', 'TMS_Customers,TMS_Accounts', 'FLACM', 'FTDWM601', 'FTDWD613', 'CLMST', 'CLMST', 'TRN_CPDF_DBF', 'tblCustomers', 'MIS004', 'TMS_Customers,TMS_Accounts', 'FLACM', 'FTDWM601', 'FTDWD613', 'CLMST', 'CLMST', 'TRN_CPDF_DBF', 'tblCustomers', 'MIS004', 'TMS_Customers,TMS_Accounts', 'FTDWM601', 'FTDWD613', 'MIS004', 'TMS_Customers,TMS_Accounts', 'CFADDR', 'FTDWM601', 'FTDWD613', 'TRN_CPDF_DBF', 'MIS004', 'TMS_Customers', 'FLACM', 'FTDWD613', 'CLMST', 'CLMST', 'TRN_CPDF_DBF', 'tblCustomers', 'MIS004', 'FLACM', 'FTDWM601', 'FTDWD613', 'CLMST', 'CLMST', 'TRN_CPDF_DBF', 'tblCustomers', 'FLACM', 'CFCONN', 'CustAcc', 'FTDWD613', 'CLMST', 'CLMST', 'TRN_CPDF_DBF', 'tblCustomers', 'MIS004', 'TMS_Customers', 'FLACM', 'CFADDR', 'FTDWM601', 'FTDWD613', 'CLMST', 'CLMST', 'TRN_CPDF_DBF', 'tblCustomers', 'MIS004', 'TMS_Customers', 'FLACM', 'FTDWM601', 'FTDWD613', 'CLMST', 'CLMST', 'TRN_CPDF_DBF,MRX_TRANS_D', 'tblCustomers', 'MIS004', 'FTDWM601', 'FTDWD613', 'CLMST', 'CLMST', 'TRN_CPDF_DBF', 'MIS004', 'TMS_Customers', 'tblCustomers', 'FTDWD613', 'TRN_CPDF_DBF', 'MIS004', 'FLACM', 'CLMST', 'CLMST', 'LNA542WF', 'FTDWM601', 'TRN_CPDF_DBF', 'tblCustomers', 'MIS004', 'TMS_Account', 'FLACM', 'CFMAST', 'FTDWM601', 'FTDWD613', 'CLMST', 'CLMST', 'TRN_CPDF_DBF', 'tblCustomers', 'MIS004', 'TMS_Customers', 'DL_CIF', 'FLACM', 'CFMAST', 'FTDWM601', 'CLMST', 'TRN_CPDF_DBF', 'tblCustomers', 'MIS004', 'TMS_Customers', 'DL_CIF', 'FLACM', 'CFMAST', 'FTDWD613', 'CLMST', 'CLMST', 'TRN_CPDF_DBF', 'tblCustomers', 'MIS004', 'TMS_Customers', 'DL_CIF', 'FLACM', 'LNDHIS,LNMAST', 'FTDWM601', 'CLMST', 'CLMST', 'TRN_CPDF_DBF', 'MIS004', 'FLACM', 'CFMAST', 'FTDWM601', 'CLMST', 'CLMST', 'TRN_CPDF_DBF', 'tblCustomers', 'MIS004', 'TMS_Customers', 'DL_CIF', 'FLACM', 'CFMAST', 'FTDWM601', 'CLMST', 'CLMST', 'TRN_CPDF_DBF', 'tblCustomers', 'MIS004', 'TMS_Customers', 'DL_CIF', 'FLACM', 'CFMAST', 'FTDWM601', 'CLMST', 'CLMST', 'TRN_CPDF_DBF', 'tblCustomers', 'MIS004', 'TMS_Customers', 'DL_CIF', 'FLACM', 'CFMAST', 'FTDWM601', 'CLMST', 'CLMST', 'TRN_CPDF_DBF', 'tblCustomers', 'MIS004', 'TMS_Customers', 'DL_CIF', 'FLACM', 'CFMAST', 'FTDWD613', 'CLMST', 'CLMST', 'TRN_CPDF_DBF', 'tblCustomers', 'MIS004', 'TMS_Customers', 'DL_CIF', 'FLACM', 'CFMAST', 'FTDWD613', 'CLMST', 'CLMST', 'TRN_CPDF_DBF', 'tblCustomers', 'MIS004', 'FLACM', 'CFMAST', 'FTDWD613', 'CLMST', 'CLMST', 'TRN_CPDF_DBF', 'tblCustomers', 'MIS004', 'TMS_Customers', 'DL_CIF', 'FTDWM601', 'tblCustomers', 'FLACM', 'CFEMPH', 'FTDWM601', 'CLMST', 'TRN_CPDF_DBF', 'tblCustomers', 'MIS004', 'FTDWM601', 'MCGD1', 'tblCustomers', 'CFEMPH', 'MIS004', 'CFEMPH', 'FTDWM601', 'MCGD1', 'TRN_CPDF_DBF', 'tblCustomers', 'MIS004', 'FLACM', 'FTDWM601', 'TRN_CPDF_DBF', 'tblCustomers', 'FLACM', 'CFMAST', 'FTDWM601,FTDWD613', 'CLMST', 'CLMST', 'TRN_CPDF_DBF', 'tblCustomers', 'MIS004', 'TMS_Customers', 'FLACM', 'CFMAST', 'FTDWM601', 'TRN_CPDF_DBF', 'tblCustomers', 'MIS004', 'DL_CIF', 'CFEMPH', 'FTDWM601', 'TRN_CPDF_DBF', 'tblCustomers', 'MIS004', 'FLACM', 'CFMAST', 'FTDWM601', 'CLMST', 'TRN_CPDF_DBF', 'tblCustomers', 'MIS004,MIS015', 'TMS_Customers', 'DL_CIF', 'FLACM', 'CFMAST', 'FTDWM601', 'TRN_CPDF_DBF', 'tblCustomers', 'MIS004', 'TMS_Customers', 'CLMST', 'TRN_CPDF_DBF', 'TMS_Customers', 'FLACM', 'CFMAST', 'FTDWM601,FTDWD613', 'CLMST', 'CLMST', 'TRN_CPDF_DBF', 'tblCustomers', 'TMS_Customers', 'CLMST', 'CLMST', 'FLACM', 'CFMAST', 'FTDWM601,FTDWD613', 'TRN_CPDF_DBF', 'tblCustomers', 'MIS004', 'MIS004', 'FLACM', 'CFMAST', 'FTDWM601', 'CLMST', 'CLMST', 'TRN_CPDF_DBF', 'tblCustomers', 'MIS004', 'TMS_Customers', 'MIS004', 'MCGD1', 'FLATX', 'LNDHIS', 'CLHST', 'FRTRXTBL', 'mtf', 'MIS099', 'MIS100', 'FLATX', 'LNDHIS', 'FTDWD603', 'CLHST', 'FRTRXTBL', 'MRX_TRANS_D', 'POR_TRANSACTIONS', 'MIS099', 'MIS100', 'TMS_Transactions', 'CFCOLD', 'MIS006', 'CFCOLD']\n"
     ]
    }
   ],
   "source": [
    "#store values of current table name in list\n",
    "currentTable_values = []\n",
    "columns = df.columns.to_list()\n",
    "target_columns = ['main_table']\n",
    "for index, row in df.iterrows():\n",
    "    for col in target_columns:\n",
    "        currentTable_value = row[col]\n",
    "        currentTable_values.append(currentTable_value)\n",
    "\n",
    "print(currentTable_values)"
   ]
  },
  {
   "attachments": {},
   "cell_type": "markdown",
   "metadata": {},
   "source": [
    "Main Table and Columns"
   ]
  },
  {
   "cell_type": "code",
   "execution_count": 29,
   "metadata": {},
   "outputs": [
    {
     "name": "stdout",
     "output_type": "stream",
     "text": [
      "['FLACM', 'LNMAST', 'FTDWD605', 'TB_LOC_ACCT', 'MIS006', 'MIS007', 'TMS_Accounts,TMS_Transactions', 'FLACM', 'FTDWD602', 'CLMST', 'TRN_CPDF_DBF', 'tblCustomers', 'MIS006', 'MIS007', 'TMS_Accounts', 'FATBM', 'CLMST', 'CLMST', 'TRN_CPDF_DBF', 'MIS006', 'MIS007', 'CFADDR', 'MIS022', 'CFCOLD', 'CFCOLE', 'MIS022', 'CFCOLE', 'MIS022', 'CFCOLD', 'MIS022', 'CFCOLD', 'MIS022', 'CFCOLD', 'MIS022', 'CFCOLD', 'MIS022', 'MIS022', 'MIS022', 'MIS022', 'CFCOLD', 'MIS022', 'LNBNMC', 'MIS022', 'CFCOLD', 'CFCOLD', 'CFCOLD', 'CFCOLD', 'MIS022', 'MIS022', 'CFCOLD', 'CFCOLD', 'CFMAST', 'MIS004', 'CFMAST', 'MIS004', 'CFCOLD', 'MIS022', 'CFCOLD', 'MIS022', 'MIS006', 'CFMAST', 'MIS004', 'CFMAST', 'MIS004', 'CFCOLD', 'MIS022', 'CFCOLD', 'MIS022', 'CFCOLE', 'MIS022', 'CFCOLD', 'CFCOLD', 'MIS022', 'CFCOLD', 'MIS022', 'CFMAST', 'MIS004', 'INBLPARKWF', 'MIS006', 'INBLPARKWF', 'MIS006', 'INBLPARKWF', 'MIS006', 'INBLPARKWF', 'MIS006', 'INBLPARKWF', 'MIS006', 'MIS006', 'MIS006', 'INBLPARKWF', 'MIS006', 'MIS022', 'MIS022', 'CFCOLD', 'MIS022', 'MIS022', 'CFCOLD', 'MIS006', 'MIS006', 'MIS006', 'MIS006', 'CFCOLD', 'MIS006', 'CFCOLD', 'MIS006', 'CFCOLD', 'MIS006', 'CFCOLD', 'MIS006', 'CFCOLD', 'MIS006', 'CFCOLD', 'MIS308', 'CFCOLD', 'MIS022', 'CFCOLD', 'MIS022', 'CFCOLD', 'MIS022', 'CFCOLD', 'MIS022', 'CFCOLD', 'CFCOLD', 'LNACCT', 'MIS022', 'CFCOLD', 'MIS022', 'CFCOLD', 'MIS022', 'MIS022', 'MIS022', 'CFCOLD', 'MIS022', 'CFCOLD', 'MIS006', 'CFCOLD', 'MIS022', 'MIS022', 'MIS022', 'INL131WF', 'TCS_JFALON', 'INL131WF', 'TCS_JFALON', 'INL131WF', 'TCS_JFALON', 'INL131WF', 'TCS_JFALON', 'MIS022', 'CFCOLD', 'MIS022', 'MIS022', 'MIS022', 'MIS022', 'CFCOLD', 'MIS022', 'CFCOLD', 'MIS022', 'CFCOLD', 'MIS022', 'MIS022', 'MIS022', 'MIS022', 'FLACM', 'FTDWM601', 'FTDWD613', 'CLMST', 'CLMST', 'TRN_CPDF_DBF', 'tblCustomers', 'MIS004', 'TMS_Customers,TMS_Accounts', 'FLACM', 'CFADDR', 'FTDWM601', 'FTDWD613', 'CLMST', 'CLMST', 'TRN_CPDF_DBF', 'tblCustomers', 'MIS004', 'TMS_Customers,TMS_Accounts', 'FLACM', 'CFADDR', 'FTDWD602,FTDWM601', 'FTDWD613', 'CLMST', 'CLMST', 'TRN_CPDF_DBF', 'tblCustomers', 'MIS004', 'TMS_Customers,TMS_Accounts', 'FLACM', 'CFADDR', 'FTDWM601', 'FTDWD613', 'CLMST', 'CLMST', 'TRN_CPDF_DBF', 'tblCustomers', 'MIS004', 'TMS_Customers', 'FLACM', 'FTDWM601', 'FTDWD613', 'CLMST', 'CLMST', 'tblCustomers', 'MIS004', 'TMS_Customers,TMS_Accounts', 'FLACM', 'CFADDR', 'FTDWM601', 'FTDWD613', 'CLMST', 'CLMST', 'TRN_CPDF_DBF', 'tblCustomers', 'MIS004', 'TMS_Customers,TMS_Accounts', 'FLACM', 'FTDWM601', 'FTDWD613', 'CLMST', 'CLMST', 'TRN_CPDF_DBF', 'tblCustomers', 'MIS004', 'TMS_Customers,TMS_Accounts', 'FLACM', 'FTDWM601', 'FTDWD613', 'CLMST', 'CLMST', 'TRN_CPDF_DBF', 'tblCustomers', 'MIS004', 'TMS_Customers,TMS_Accounts', 'FTDWM601', 'FTDWD613', 'MIS004', 'TMS_Customers,TMS_Accounts', 'CFADDR', 'FTDWM601', 'FTDWD613', 'TRN_CPDF_DBF', 'MIS004', 'TMS_Customers', 'FLACM', 'FTDWD613', 'CLMST', 'CLMST', 'TRN_CPDF_DBF', 'tblCustomers', 'MIS004', 'FLACM', 'FTDWM601', 'FTDWD613', 'CLMST', 'CLMST', 'TRN_CPDF_DBF', 'tblCustomers', 'FLACM', 'CFCONN', 'CustAcc', 'FTDWD613', 'CLMST', 'CLMST', 'TRN_CPDF_DBF', 'tblCustomers', 'MIS004', 'TMS_Customers', 'FLACM', 'CFADDR', 'FTDWM601', 'FTDWD613', 'CLMST', 'CLMST', 'TRN_CPDF_DBF', 'tblCustomers', 'MIS004', 'TMS_Customers', 'FLACM', 'FTDWM601', 'FTDWD613', 'CLMST', 'CLMST', 'TRN_CPDF_DBF,MRX_TRANS_D', 'tblCustomers', 'MIS004', 'FTDWM601', 'FTDWD613', 'CLMST', 'CLMST', 'TRN_CPDF_DBF', 'MIS004', 'TMS_Customers', 'tblCustomers', 'FTDWD613', 'TRN_CPDF_DBF', 'MIS004', 'FLACM', 'CLMST', 'CLMST', 'LNA542WF', 'FTDWM601', 'TRN_CPDF_DBF', 'tblCustomers', 'MIS004', 'TMS_Account', 'FLACM', 'CFMAST', 'FTDWM601', 'FTDWD613', 'CLMST', 'CLMST', 'TRN_CPDF_DBF', 'tblCustomers', 'MIS004', 'TMS_Customers', 'DL_CIF', 'FLACM', 'CFMAST', 'FTDWM601', 'CLMST', 'TRN_CPDF_DBF', 'tblCustomers', 'MIS004', 'TMS_Customers', 'DL_CIF', 'FLACM', 'CFMAST', 'FTDWD613', 'CLMST', 'CLMST', 'TRN_CPDF_DBF', 'tblCustomers', 'MIS004', 'TMS_Customers', 'DL_CIF', 'FLACM', 'LNDHIS,LNMAST', 'FTDWM601', 'CLMST', 'CLMST', 'TRN_CPDF_DBF', 'MIS004', 'FLACM', 'CFMAST', 'FTDWM601', 'CLMST', 'CLMST', 'TRN_CPDF_DBF', 'tblCustomers', 'MIS004', 'TMS_Customers', 'DL_CIF', 'FLACM', 'CFMAST', 'FTDWM601', 'CLMST', 'CLMST', 'TRN_CPDF_DBF', 'tblCustomers', 'MIS004', 'TMS_Customers', 'DL_CIF', 'FLACM', 'CFMAST', 'FTDWM601', 'CLMST', 'CLMST', 'TRN_CPDF_DBF', 'tblCustomers', 'MIS004', 'TMS_Customers', 'DL_CIF', 'FLACM', 'CFMAST', 'FTDWM601', 'CLMST', 'CLMST', 'TRN_CPDF_DBF', 'tblCustomers', 'MIS004', 'TMS_Customers', 'DL_CIF', 'FLACM', 'CFMAST', 'FTDWD613', 'CLMST', 'CLMST', 'TRN_CPDF_DBF', 'tblCustomers', 'MIS004', 'TMS_Customers', 'DL_CIF', 'FLACM', 'CFMAST', 'FTDWD613', 'CLMST', 'CLMST', 'TRN_CPDF_DBF', 'tblCustomers', 'MIS004', 'FLACM', 'CFMAST', 'FTDWD613', 'CLMST', 'CLMST', 'TRN_CPDF_DBF', 'tblCustomers', 'MIS004', 'TMS_Customers', 'DL_CIF', 'FTDWM601', 'tblCustomers', 'FLACM', 'CFEMPH', 'FTDWM601', 'CLMST', 'TRN_CPDF_DBF', 'tblCustomers', 'MIS004', 'FTDWM601', 'MCGD1', 'tblCustomers', 'CFEMPH', 'MIS004', 'CFEMPH', 'FTDWM601', 'MCGD1', 'TRN_CPDF_DBF', 'tblCustomers', 'MIS004', 'FLACM', 'FTDWM601', 'TRN_CPDF_DBF', 'tblCustomers', 'FLACM', 'CFMAST', 'FTDWM601,FTDWD613', 'CLMST', 'CLMST', 'TRN_CPDF_DBF', 'tblCustomers', 'MIS004', 'TMS_Customers', 'FLACM', 'CFMAST', 'FTDWM601', 'TRN_CPDF_DBF', 'tblCustomers', 'MIS004', 'DL_CIF', 'CFEMPH', 'FTDWM601', 'TRN_CPDF_DBF', 'tblCustomers', 'MIS004', 'FLACM', 'CFMAST', 'FTDWM601', 'CLMST', 'TRN_CPDF_DBF', 'tblCustomers', 'MIS004,MIS015', 'TMS_Customers', 'DL_CIF', 'FLACM', 'CFMAST', 'FTDWM601', 'TRN_CPDF_DBF', 'tblCustomers', 'MIS004', 'TMS_Customers', 'CLMST', 'TRN_CPDF_DBF', 'TMS_Customers', 'FLACM', 'CFMAST', 'FTDWM601,FTDWD613', 'CLMST', 'CLMST', 'TRN_CPDF_DBF', 'tblCustomers', 'TMS_Customers', 'CLMST', 'CLMST', 'FLACM', 'CFMAST', 'FTDWM601,FTDWD613', 'TRN_CPDF_DBF', 'tblCustomers', 'MIS004', 'MIS004', 'FLACM', 'CFMAST', 'FTDWM601', 'CLMST', 'CLMST', 'TRN_CPDF_DBF', 'tblCustomers', 'MIS004', 'TMS_Customers', 'MIS004', 'MCGD1', 'FLATX', 'LNDHIS', 'CLHST', 'FRTRXTBL', 'mtf', 'MIS099', 'MIS100', 'FLATX', 'LNDHIS', 'FTDWD603', 'CLHST', 'FRTRXTBL', 'MRX_TRANS_D', 'POR_TRANSACTIONS', 'MIS099', 'MIS100', 'TMS_Transactions', 'CFCOLD', 'MIS006', 'CFCOLD']\n"
     ]
    }
   ],
   "source": [
    "#store values of main table in list\n",
    "mainTable_values = []\n",
    "columns = df.columns.to_list()\n",
    "target_columns = ['main_table']\n",
    "for index, row in df.iterrows():\n",
    "    for col in target_columns:\n",
    "        mainTable_value = row[col]\n",
    "        mainTable_values.append(mainTable_value)\n",
    "\n",
    "print(mainTable_values)"
   ]
  },
  {
   "cell_type": "code",
   "execution_count": 30,
   "metadata": {},
   "outputs": [
    {
     "name": "stdout",
     "output_type": "stream",
     "text": [
      "['FLACM.FLMLA#', 'LNMAST.ACCTNO', 'FTDWD605.CB_INDIVIDUAL_ACCTNO', 'TB_LOC_ACCT.ACCTNO', 'MIS006.MI006_MEMB_CUST_AC', 'MIS007.MI007_MEMB_CUST_AC', 'TMS_Accounts.ACCOUNT_SOURCE_UNIQUE_ID,TMS_Transactions.ACCOUNT_SOURCE_UNIQUE_ID', 'FLACM.FLMOPD', 'FTDWD602.CB_ANNIV_DATE', 'CLMST.C1JNDT', 'TRN_CPDF_DBF.M_CREATION_DATE', 'tblCustomers.fldCreateDate', 'MIS006.MI006_APPLIC_ISSUE_DATE', 'MIS007.MI007_ACCT_OPEN_DT', 'TMS_Accounts.DATE_OPENED', 'FATBM.FABREM', 'CLMST.C1RMCD', 'CLMST.C1RMCD', 'TRN_CPDF_DBF.M_RM_AMBANK', 'MIS006.MI006_BORM_RM_CODE', 'MIS007.MI007_INVM_RM_CODE', 'CFADDR.CFNA2', 'MIS022.MI022_CPRO_ADDRESS_1', 'CFCOLD.CCDCAT', 'CFCOLE.CCSDT6', 'MIS022.MI022_GTEM_COL_SOLD_DT', 'CFCOLE.CCSDT6', 'MIS022.MI022_GTEM_COL_SOLD_DT', 'CFCOLD.CCLCD6', 'MIS022.MI022_COLM_START_DATE', 'CFCOLD.CCLCD6', 'MIS022.MI022_COLM_START_DATE', 'CFCOLD.CCLCD6', 'MIS022.MI022_COLM_START_DATE', 'CFCOLD.CCDSTS', 'MIS022.MI022_COLM_STATUS', 'MIS022.MI022_CHPM_GOOD_STAT', 'MIS022.MI022_COLM_SUB_TYPE', 'MIS022.MI022_CPRO_COLL_TOWN', 'CFCOLD.CCDCOD', 'MIS022.MI022_COLM_TYPE', 'LNBNMC.BNCOUN', 'MIS022.MI022_GTEM_COUNTRY_CODE', 'CFCOLD.CCDCOD', 'CFCOLD.CCEXP6,CFCOLD.CCDCOD,CFCOLD.CCLCD6', 'CFCOLD.CCEXP6', 'CFCOLD.CCEXP6', 'MIS022.MI022_GTEM_EXPIRY_DATE', 'MIS022.MI022_GTEM_EXPIRY_DATE', 'CFCOLD.CCEXP6', 'CFCOLD.CCEXP6', 'CFMAST.CFBIR6', 'MIS004.MI004_BIRTH_DATE_1', 'CFMAST.CFBIR6', 'MIS004.MI004_BIRTH_DATE_1', 'CFCOLD.CCISS6', 'MIS022.MI022_GTEM_START_DATE', 'CFCOLD.CCISS6', 'MIS022.MI022_GTEM_START_DATE', 'MIS006.MI006_BLDVLL_CIV_COD_DAT', 'CFMAST.CFBIR6', 'MIS004.MI004_BIRTH_DATE_1', 'CFMAST.CFBIR6', 'MIS004.MI004_BIRTH_DATE_1', 'CFCOLD.CCPUR6', 'MIS022.MI022_PURCHASE_DT', 'CFCOLD.CCPUR6', 'MIS022.MI022_PURCHASE_DT', 'CFCOLE.CCSDTE', 'MIS022.MI022_GTEM_COL_SOLD_DT', 'CFCOLD.CCOFF6', 'CFCOLD.CCDVA6', 'MIS022.MI022_VALUATION_DATE', 'CFCOLD.CCDVA6', 'MIS022.MI022_VALUATION_DATE', 'CFMAST.CFCOD2', 'MIS004.MI004_CUSTOMER_TYPE', 'INBLPARKWF.LKFTYP', 'MIS006.MI006_BOIS_CCRIS_FCLTY_TYP', 'INBLPARKWF.LKFTYP', 'MIS006.MI006_BOIS_CCRIS_FCLTY_TYP', 'INBLPARKWF.LKFTYP', 'MIS006.MI006_BOIS_CCRIS_FCLTY_TYP', 'INBLPARKWFLKFTYP', 'MIS006.MI006_BOIS_CCRIS_FCLTY_TYP', 'INBLPARKWF.LKFTYP', 'MIS006.MI006_BOIS_CCRIS_FCLTY_TYP', 'MIS006.MI006_BOIS_CCRIS_FCLTY_TYP', 'MIS006.MI006_BOIS_CCRIS_FCLTY_TYP', 'INBLPARKWF.LKFTYP', 'MIS006.MI006_BOIS_CCRIS_FCLTY_TYP', 'MIS022.MI022_FORCD_SALE_VAL_DT', 'MIS022.MI022_FORCD_SALE_VAL_DT', 'CFCOLD.CCFSLV', 'MIS022.MI022_CPRO_FORCD_SALE_VALUE', 'MIS022.MI022_GTEM_GUARANTEE_SCHME', 'CFCOLD.CCCIFN  ', 'MIS006.MI006_GAURANTOR_ID_NO', 'MIS006.MI006_GAURANTOR_ID_NO', 'MIS006.MI006_GAURANTOR_ID_NO', 'MIS006.MI006_GAURANTOR_ID_NO', 'CFCOLD.CCCIFN', 'MIS006.MI006_GAURANTOR_ID_NO', 'CFCOLD.CCCIFN', 'MIS006.MI006_GAURANTOR_ID_NO', 'CFCOLD.CCCIFN', 'MIS006.MI006_GAURANTOR_ID_NO', 'CFCOLD.CCDNAM', 'MIS006.MI006_BLDVTT_GUA1_NAME', 'CFCOLD.CCDNAM', 'MIS006.MI006_BLDVTT_GUA1_NAME', 'CFCOLD.CCPTYP', 'MIS308.MIS308_CHQM_INST_TYPE', 'CFCOLD.CCLUSE', 'MIS022.MI022_CPRO_LAND_USE', 'CFCOLD.CCDCMV', 'MIS022.MI022_APPRAISAL_VALUE', 'CFCOLD.CCDCMV', 'MIS022.MI022_APPRAISAL_VALUE,MIS022.MI022_CSHR_TOTAL_VALUE,MIS022.MI022_RESERVD_VAL', 'CFCOLD.CCDCMV', 'MIS022.MI022_APPRAISAL_VALUE', 'CFCOLD.CCDCMV', 'CFCOLD.CCDCMV', 'LNACCT.ACRELP', 'MIS022.MI022_GTEM_NATURE_GAURANTEE', 'CFCOLD.CCGPCT', 'MIS022.MI022_GTEM_COVER_PERCENTAGE', 'CFCOLD.CCGPCT', 'MIS022.MI022_GTEM_COVER_PERCENTAGE', 'MIS022.MI022_CPRO_LAST_VALUE_DT', 'MIS022.MI022_CPRO_LAST_VALUE_DT', 'CFCOLD.CCPCDE', 'MIS022.MI022_CPRO_POST_CODE', 'CFCOLD.CCPTYP', 'MIS006.MI006_PROPERTY_TYPE', 'CFCOLD.CCPAMT', 'MIS022.MI022_CSHR_TOTAL_VALUE', 'MIS022.MI022_CSHR_TOTAL_VALUE', 'MIS022.MI022_CSHR_TOTAL_VALUE', 'INL131WF.BNMPCD', 'TCS_JFALON.JFALON_N_LOAN_PURPOSE', 'INL131WF.BNMPCD', 'TCS_JFALON.JFALON_N_LOAN_PURPOSE', 'INL131WF.BNMPCD', 'TCS_JFALON.JFALON_N_LOAN_PURPOSE', 'INL131WF.BNMPCD', 'TCS_JFALON.JFALON_N_LOAN_PURPOSE', 'MIS022.MI022_RESERVD_VAL', 'CFCOLD.CCRESV', 'MIS022.MI022_RESERVD_VAL', 'MIS022.MI022_RESERVD_VAL_DT', 'MIS022.MI022_RESERVD_VAL_DT', 'MIS022.MI022_CPRO_SFO', 'CFCOLD.CCDSID', 'MIS022.MI022_CSHR_SHARE_COUNTR_CODE', 'CFCOLD.CCDSHR', 'MIS022.MI022_GTEM_NATURE_GAURANTEE', 'CFCOLD.CCVALC', 'MIS022.MI022_GOOD_MAKE', 'MIS022.MI022_GOOD_YEAR', 'MIS022.MI022_GOOD_YEAR', 'MIS022.MI022_GOOD_YEAR', 'FLACM.FLMAD1', 'FTDWM601.CB_HOME_ADDR1,FTDWM601.CB_CO_ADDR1,FTDWM601.CB_ALT1_BILL_ADDR1,FTDWM601.CB_ALT2_BILL_ADDR1', 'FTDWD613.CO_MAIL_ADD_LINE1,FTDWD613.CO_REG_ADD_LINE1,FTDWD613.CO_OPR_ADD_LINE1,FTDWD613.CO_PAR_ADD_LINE1,FTDWD613.CO_MAINBK_ADD_LINE1 ', 'CLMST.C1AD1', 'CLMST.C1AD1', 'TRN_CPDF_DBF.M_ADDRESS0', 'tblCustomers.fldCorrAddress1,tblCustomers.fldPermAddress1', 'MIS004.MI004_ADD1,MIS004.MI004_TEMP_ADD1', 'TMS_Customers.AM_ADR_LINE1,TMS_Accounts.AM_ADR_LINE1', 'FLACM.FLMAD1', 'CFADDR.CFNA2', 'FTDWM601.CB_HOME_ADDR1,FTDWM601.CB_CO_ADDR1,FTDWM601.CB_ALT1_BILL_ADDR1,FTDWM601.CB_ALT2_BILL_ADDR1', 'FTDWD613.CO_MAIL_ADD_LINE1,FTDWD613.CO_REG_ADD_LINE1,FTDWD613.CO_OPR_ADD_LINE1,FTDWD613.CO_PAR_ADD_LINE1,FTDWD613.CO_MAINBK_ADD_LINE1', 'CLMST.C1AD1', 'CLMST.C1AD1', 'TRN_CPDF_DBF.M_ADDRESS0', 'tblCustomers.fldCorrAddress1,tblCustomers.fldPermAddress1', 'MIS004.MI004_ADD1,MIS004.MI004_TEMP_ADD1', 'TMS_Customers.AM_ADR_LINE1,TMS_Accounts.AM_ADR_LINE1', 'FLACM.FLMAD1,FLACM.FLMCTY,FLACM.FLMSTC', 'CFADDR.CFNA2', 'FTDWD602.CB_BILL_ADDR_CD,FTDWM601.CB_HOME_ADDR1,FTDWM601.CB_CO_ADDR1,FTDWM601.CB_ALT1_BILL_ADDR1,FTDWM601.CB_ALT2_BILL_ADDR1', 'FTDWD613.CO_MAIL_ADD_LINE1,FTDWD613.CO_REG_ADD_LINE1,FTDWD613.CO_OPR_ADD_LINE1,FTDWD613.CO_PAR_ADD_LINE1,FTDWD613.CO_MAINBK_ADD_LINE1', 'CLMST.C1AD1', 'CLMST.C1AD1', 'TRN_CPDF_DBF.M_ADDRESS0', 'tblCustomers.fldCorrAddress1,tblCustomers.fldPermAddress1', 'MIS004.MI004_ADD1,MIS004.MI004_TEMP_ADD1', 'TMS_Customers.AM_ADR_LINE1,TMS_Accounts.AM_ADR_LINE1', 'FLACM.FLMAD1,FLACM.FLMAD2,FLACM.FLMAD3', 'CFADDR.CFNA2CFADDR.CFNA3,CFADDR.CFNA4', 'FTDWD602.CB_BILL_ADDR_CD,FTDWM601.CB_HOME_ADDR1,FTDWM601.CB_HOME_ADDR2,FTDWM601.CB_HOME_ADDR3,FTDWM601.CB_CO_ADDR1,FTDWM601.CB_CO_ADDR2,FTDWM601.CB_CO_ADDR3,FTDWM601.CB_ALT1_BILL_ADDR1,FTDWM601.CB_ALT1_BILL_ADDR2,FTDWM601.CB_ALT1_BILL_ADDR3,FTDWM601.CB_ALT2_BILL_ADDR1,FTDWM601.CB_ALT2_BILL_ADDR2,FTDWM601.CB_ALT2_BILL_ADDR3', 'FTDWD613.CO_MAIL_ADD_LINE1,FTDWD613.CO_MAIL_ADD_LINE2,FTDWD613.CO_MAIL_ADD_LINE3,FTDWD613.CO_REG_ADD_LINE1,FTDWD613.CO_REG_ADD_LINE2,FTDWD613.CO_REG_ADD_LINE3,FTDWD613.CO_PAR_ADD_LINE1,FTDWD613.CO_PAR_ADD_LINE2,FTDWD613.CO_PAR_ADD_LINE3,FTDWD613.CO_OPR_ADD_LINE1,FTDWD613.CO_OPR_ADD_LINE2,FTDWD613.CO_OPR_ADD_LINE3,FTDWD613.CO_MAINBK_ADD_LINE1,FTDWD613.CO_MAINBK_ADD_LINE2,FTDWD613.CO_MAINBK_ADD_LINE3', 'CLMST.C1AD1,CLMST.C1AD2,CLMST.C1AD3', 'CLMST.C1AD1,CLMST.C1AD2,CLMST.C1AD3', 'TRN_CPDF_DBF.M_ADDRESS0,TRN_CPDF_DBF.M_ADDRESS1,TRN_CPDF_DBF.M_ADDRESS2', 'tblCustomers.fldCorrAddress1,tblCustomers.fldPermAddress1,tblCustomers.fldCorrAddress2,tblCustomers.fldPermAddress2,tblCustomers.fldCorrAddress3,tblCustomers.fldPermAddress3', 'MIS004.MI004_ADD1,MIS004.MI004_ADD2,MIS004.MI004_ADD3,MIS004.MI004_TEMP_ADD1,MIS004.MI004_TEMP_ADD2,MIS004.MI004_TEMP_ADD3', 'TMS_Customers.AM_ADR_LINE1,TMS_Customers.AM_ADR_LINE2,TMS_Customers.AM_ADR_LINE3,TMS_Accounts.AM_ADR_LINE1,TMS_Accounts.AM_ADR_LINE2,TMS_Accounts.AM_ADR_LINE3', 'FLACM.FLMAD2', 'FTDWM601.CB_HOME_ADDR2,FTDWM601.CB_CO_ADDR2,FTDWM601.CB_ALT1_BILL_ADDR2,FTDWM601.CB_ALT2_BILL_ADDR2', 'FTDWD613.CO_MAIL_ADD_LINE2,FTDWD613.CO_REG_ADD_LINE2,FTDWD613.CO_OPR_ADD_LINE2,FTDWD613.CO_PAR_ADD_LINE2,FTDWD613.CO_MAINBK_ADD_LINE2', 'CLMST.C1AD2', 'CLMST.C1AD2', 'tblCustomers.fldCorrAddress2,tblCustomers.fldPermAddress2', 'MIS004.MI004_ADD2,MIS004.MI004_TEMP_ADD2', 'TMS_Customers.AM_ADR_LINE2,TMS_Accounts.AM_ADR_LINE2', 'FLACM.FLMAD2', 'CFADDR.CFNA3', 'FTDWM601.CB_HOME_ADDR2,FTDWM601.CB_CO_ADDR2,FTDWM601.CB_ALT1_BILL_ADDR2,FTDWM601.CB_ALT2_BILL_ADDR2', 'FTDWD613.CO_MAIL_ADD_LINE2,FTDWD613.CO_REG_ADD_LINE2,FTDWD613.CO_OPR_ADD_LINE2,FTDWD613.CO_PAR_ADD_LINE2,FTDWD613.CO_MAINBK_ADD_LINE2', 'CLMST.C1AD2', 'CLMST.C1AD2', 'TRN_CPDF_DBF.M_ADDRESS1', 'tblCustomers.fldCorrAddress2,tblCustomers.fldPermAddress2', 'MIS004.MI004_ADD2,MIS004.MI004_TEMP_ADD2', 'TMS_Customers.AM_ADR_LINE2,TMS_Accounts.AM_ADR_LINE2', 'FLACM.FLMAD3', 'FTDWM601.CB_HOME_ADDR3,FTDWM601.CB_CO_ADDR3,FTDWM601.CB_ALT1_BILL_ADDR3,FTDWM601.CB_ALT2_BILL_ADDR3', 'FTDWD613.CO_MAIL_ADD_LINE3,FTDWD613.CO_REG_ADD_LINE3,FTDWD613.CO_OPR_ADD_LINE3,FTDWD613.CO_PAR_ADD_LINE3,FTDWD613.CO_MAINBK_ADD_LINE3', 'CLMST.C1AD3', 'CLMST.C1AD3', 'TRN_CPDF_DBF.M_ADDRESS2', 'tblCustomers.fldCorrAddress3,tblCustomers.fldPermAddress3', 'MIS004.MI004_ADD3,MIS004.MI004_TEMP_ADD3', 'TMS_Customers.AM_ADR_LINE3,TMS_Accounts.AM_ADR_LINE3', 'FLACM.FLMAD3', 'FTDWM601.CB_HOME_ADDR3,FTDWM601.CB_CO_ADDR3,FTDWM601.CB_ALT1_BILL_ADDR3,FTDWM601.CB_ALT2_BILL_ADDR3', 'FTDWD613.CO_MAIL_ADD_LINE3,FTDWD613.CO_REG_ADD_LINE3,FTDWD613.CO_OPR_ADD_LINE3,FTDWD613.CO_PAR_ADD_LINE3,FTDWD613.CO_MAINBK_ADD_LINE3', 'CLMST.C1AD3', 'CLMST.C1AD3', 'TRN_CPDF_DBF.M_ADDRESS2', 'tblCustomers.fldCorrAddress3,tblCustomers.fldPermAddress3', 'MIS004.MI004_ADD3,MIS004.MI004_TEMP_ADD3', 'TMS_Customers.AM_ADR_LINE3,TMS_Accounts.AM_ADR_LINE3', 'FTDWM601.CB_HOME_ADDR4,FTDWM601.CB_CO_ADDR4,FTDWM601.CB_ALT1_BILL_ADDR4,FTDWM601.CB_ALT2_BILL_ADDR4', 'FTDWD613.CO_MAIL_ADD_LINE4,FTDWD613.CO_REG_ADD_LINE4,FTDWD613.CO_OPR_ADD_LINE4,FTDWD613.CO_PAR_ADD_LINE4,FTDWD613.CO_MAINBK_ADD_LINE4', 'MIS004.MI004_ADD4,MIS004.MI004_TEMP_ADD4', 'TMS_Customers.AM_ADR_LINE4,TMS_Accounts.AM_ADR_LINE4', 'CFADDR.CFNA5', 'FTDWM601.CB_HOME_ADDR4,FTDWM601.CB_CO_ADDR4,FTDWM601.CB_ALT1_BILL_ADDR4,FTDWM601.CB_ALT2_BILL_ADDR4', 'FTDWD613.CO_MAIL_ADD_LINE4,FTDWD613.CO_REG_ADD_LINE4,FTDWD613.CO_OPR_ADD_LINE4,FTDWD613.CO_PAR_ADD_LINE4,FTDWD613.CO_MAINBK_ADD_LINE4', 'TRN_CPDF_DBF.M_ADDRESS3', 'MIS004.MI004_ADD4,MIS004.MI004_TEMP_ADD4', 'TMS_Customers.AM_ADR_LINE4,TMS_Accounts.AM_ADR_LINE4', 'FLACM.FLMEML', 'FTDWD613.CO_PGM_ADMIN_EMAIL1,FTDWD613.CO_PGM_ADMIN_EMAIL2,FTDWD613.CO_EMAIL_ADDRESS', 'CLMST.C1EMAI', 'CLMST.C1EMAI', 'TRN_CPDF_DBF.M_EMAIL', 'tblCustomers.fldEmailAddress1,tblCustomers.fldEmailAddress2', 'MIS004.MI004_EMAIL_ADD1', 'FLACM.FLMEML', 'FTDWM601.CB_EMAIL', 'FTDWD613.CO_PGM_ADMIN_EMAIL1,FTDWD613.CO_PGM_ADMIN_EMAIL2,FTDWD613.CO_EMAIL_ADDRESS', 'CLMST.C1EMAI', 'CLMST.C1EMAI', 'TRN_CPDF_DBF.M_EMAIL', 'tblCustomers.fldEmailAddress1,tblCustomers.fldEmailAddress2', 'FLACM.FLMTL1,FLACM.FLMTL2,FLACM.FLMTL3,FLACM.FLMFX2', 'CFCONN.CFEADC,CFCONN.CFEADD', 'CustAcc.CP_CSTTBL.CB_CO_PHONE,CustAcc.CP_CSTTBL.CB_HOME_PHONE,CustAcc.CP_CSTTBL.CB_CO_PHONE ', 'FTDWD613.CO_REG_ADD_TEL,FTDWD613.CO_OPR_ADD_TEL,FTDWD613.CO_MAIL_ADD_TEL,FTDWD613.CO_PAR_ADD_TEL,FTDWD613.CO_MAINBK_ADD_TEL,FTDWD613.CO_AUTH_SIGN_TEL,FTDWD613.CO_PGM_ADMIN_TEL1,FTDWD613.CO_PGM_ADMIN_TEL2,FTDWD613.CO_REG_ADD_FAX,FTDWD613.CO_OPR_ADD_FAX,FTDWD613.CO_MAIL_ADD_FAX,FTDWD613.CO_PAR_ADD_FAX,FTDWD613.CO_MAINBK_ADD_FAX,FTDWD613.CO_PGM_ADMIN_FAX1,FTDWD613.CO_PGM_ADMIN_FAX2', 'CLMST.C1TL1,CLMST.C1TL2,CLMST.C1TL3,CLMST.C1FAX', 'CLMST.C1TL1,CLMST.C1TL2,CLMST.C1TL3,CLMST.C1FAX', 'TRN_CPDF_DBF.M_PHONE_HOME,TRN_CPDF_DBF.M_PHONE2,TRN_CPDF_DBF.M_PHONE_MOBI,TRN_CPDF_DBF.M_TEL,TRN_CPDF_DBF.M_FAX', 'tblCustomers.fldContactNum1,tblCustomers.fldContactNum2,tblCustomers.fldContactNum3,tblCustomers.fldContactNum4,tblCustomers.fldContactNum5,tblCustomers.fldFaxNum1,tblCustomers.fldFaxNum2', 'MIS004.MI004_MOBILE_NO,MIS004.MI004_PHONE_NO_BUS,MIS004.MI004_CUSVAA_FAX_NO,MIS004.MI004_PHONE_NO_RES', 'TMS_Customers.MBL_NUM', 'FLACM.FLMPSC', 'CFADDR.CFZIP', 'CB_ALT1_BILL_ADDR_POSTCODE,CB_ALT2_BILL_ADDR_POSTCODE,CB_HOME_POSTCODE,CB_CO_POSTCODE,CB_ALT1_BILL_CNTRY_CD ,CB_ALT2_BILL_CNTRY_CD ,CB_HOME_CNTRY_CD ,CB_CO_CNTRY_CD', 'CO_REG_ADD_POSTCODE,CO_OPR_ADD_POSTCODE,CO_MAIL_ADD_POSTCODE,CO_PAR_ADD_POSTCODE,CO_MAINBK_ADD_POSTCODE,CO_MAIL_CNTRY_CD,CO_REG_CNTRY_CD,CO_OPR_CNTRY_CD,CO_PAR_CNTRY_CD ,CO_MAINBK_CNTRY_CD', 'CLMST.C1PSCD', 'CLMST.C1PSCD', 'TRN_CPDF_DBF.M_POSTCODE,TRN_CPDF_DBF.M_COUNTRY', 'tblCustomers.fldCorrPostalCode,tblCustomers.fldPermPostalCode', 'MIS004.MI004_POSTCODE,MIS004.MI004_CORR_ADD_COUNTRY_CD,MIS004.MI004_PERM_ADD_COUNTRY_CD', 'TMS_Customers.POSTAL_CODE,TMS_Customers.ACC_COUNTRY', 'FLACM.FLMPSC', 'FTDWM601.CB_ALT1_BILL_ADDR_POSTCODE,FTDWM601.CB_ALT2_BILL_ADDR_POSTCODE,FTDWM601.CB_HOME_POSTCODE,FTDWM601.CB_CO_POSTCODE', 'FTDWD613.CO_REG_ADD_POSTCODE,FTDWD613.CO_OPR_ADD_POSTCODE,FTDWD613.CO_MAIL_ADD_POSTCODE,FTDWD613.CO_PAR_ADD_POSTCODE,FTDWD613.CO_MAINBK_ADD_POSTCODE', 'CLMST.C1PSCD', 'CLMST.CLPSCD', 'TRN_CPDF_DBF.M_POSTCODE,MRX_TRANS_D.POSTCODE', 'tblCustomers.fldCorrPostalCode,tblCustomers.fldPermPostalCode', 'MIS004.MI004_POSTCODE', 'FTDWM601.CB_HOME_STATE,FTDWM601.CB_CO_STATE,FTDWM601.CB_ALT1_BILL_STATE,FTDWM601.CB_ALT2_BILL_STATE', 'FTDWD613.CO_REG_STATE,FTDWD613.CO_OPR_STATE,FTDWD613.CO_MAIL_STATE,FTDWD613.CO_PAR_STATE,FTDWD613.CO_MAINBK_STATE', 'CLMST.C1FIL1', 'CLMST.CLFIL1', 'M_STCODE', 'MIS004.MI004_CUSVAA_STATE_CODE,MIS004.MI004_TEMP_STATE_CODE', 'TMS_Customers.ZONE', 'tblCustomers.ID', 'FTDWD613.CO_BNM_ASG_ID', 'TRN_CPDF_DBF.M_ID_TYPE', 'MIS004.MI004_BNM_ASSIGNED_ID', 'FLACM.FLMCDT', 'CLMST.C1JNDT', 'CLMST.C1JNDT', 'LNA542WF.INORG6', 'FTDWM601.CB_CREATION_DATE', 'TRN_CPDF_DBF.M_CREATION_DATE', 'tblCustomers.fldCreateDate', 'MIS004.MI004_CREATE_DATE', 'TMS_Accounts.DATE_OPENED', 'FLACM.FLMNAM', 'CFMAST.CFNA1 ,CFMAST.CFNA1A', 'FTDWM601.CB_CARDHOLDER_NAME', 'FTDWD613.CO_COMPANY_NAME', 'CLMST.C1NM4', 'CLMST.C1NM4', 'TRN_CPDF_DBF.M_LEGAL_NAME', 'tblCustomers.fldName', 'MIS004.MI004_CUSM_NAME', 'TMS_Customers.CUSTOMER_NAME', 'DL_CIF.CIF_CLEINT_NAME', 'FLACM.FLMNAM', 'CFMAST.CFNA1,CFMAST.CFNA1A', 'FTDWM601.CB_CARDHOLDER_NAME', 'CLMST.C1NLTY,CLMST.C1NM4', 'TRN_CPDF_DBF.M_LEGAL_NAME', 'tblCustomers.fldName', 'MIS004.MI004_CUSM_NAME', 'TMS_Customers.CUSTOMER_NAME', 'DL_CIF.CIF_CLEINT_NAME', 'FLACM.FLMNAM', 'CFMAST.CFNA1,CFMAST.CFNA1A', 'FTDWD613.CO_COMPANY_NAME', 'CLMST.C1NM4', 'CLMST.C1NM4', 'TRN_CPDF_DBF.M_LEGAL_NAME', 'tblCustomers.fldName', 'MIS004.MI004_CUSM_NAME', 'TMS_Customers.CUSTOMER_NAME', 'DL_CIF.CIF_CLEINT_NAME', 'FLACM.FLMBRN,FLACM.FLMPRD,FLACM.FLMLA#,FLACM.FLMCHK', 'LNMAST.CIFNO', 'FTDWM601.CB_CIF_NO.CB_CIF_NO', 'CLMST.C1CD', 'CLMST.C1CD', 'TRN_CPDF_DBF.M_LABEL', 'MIS004.MI004_ACCT_NO', 'FLACM.FLMDB1,FLACM.FLMDB2', 'CFMAST.CFBIR6', 'FTDWM601.CB_DOB', 'CLMST.C1BHDT', 'CLMST.C1BHDT', 'TRN_CPDF_DBF.M_BRD_DATE', 'tblCustomers.fldDOB', 'MIS004.MI004_BIRTH_DATE_1', 'TMS_Customers.DATE_OF_BIRTH', 'DL_CIF.CIF_DOB', 'FLACM.FLMDB1,FLACM.FLMDB2', 'CFMAST.CFBIR6', 'FTDWM601.CB_DOB', 'CLMST.C1BHDT', 'CLMST.C1BHDT', 'TRN_CPDF_DBF.M_BRD_DATE', 'tblCustomers.fldDOB', 'MIS004.MI004_BIRTH_DATE_1', 'TMS_Customers.DATE_OF_BIRTH', 'DL_CIF.CIF_DOB', 'FLACM.FLMDB1,FLACM.FLMDB2', 'CFMAST.CFBIR6', 'FTDWM601.CB_DOB', 'CLMST.C1BHDT', 'CLMST.C1BHDT', 'TRN_CPDF_DBF.M_BRD_DATE', 'tblCustomers.fldDOB', 'MIS004.MI004_BIRTH_DATE_1', 'TMS_Customers.DATE_OF_BIRTH', 'DL_CIF.CIF_DOB', 'FLACM.FLMDB1,FLACM.FLMDB2', 'CFMAST.CFBIR6', 'FTDWM601.CB_DOB', 'CLMST.C1BHDT', 'CLMST.C1BHDT', 'TRN_CPDF_DBF.M_BRD_DATE', 'tblCustomers.fldDOB', 'MIS004.MI004_BIRTH_DATE_1', 'TMS_Customers.DATE_OF_BIRTH', 'DL_CIF.CIF_DOB', 'FLACM.FLMDB1,FLACM.FLMDB2', 'CFMAST.CFBIR6', 'FTDWD613.CO_REGISTRATION_DATE', 'CLMST.C1BHDT', 'CLMST.C1BHDT', 'TRN_CPDF_DBF.M_BRD_DATE', 'tblCustomers.fldIncorporationDate', 'MIS004.MI004_BIRTH_DATE_1', 'TMS_Customers.INCORPORATION_DATE', 'DL_CIF.CIF_DOB', 'FLACM.FLMDB1,FLACM.FLMDB2', 'CFMAST.CFBIR6', 'FTDWD613.CO_REGISTRATION_DATE', 'CLMST.C1BHDT', 'CLMST.C1BHDT', 'TRN_CPDF_DBF.M_BRD_DATE', 'tblCustomers.fldIncorporationDate', 'MIS004.MI004_BIRTH_DATE_1', 'FLACM.FLMDB1,FLACM.FLMDB2', 'CFMAST.CFBIR6', 'FTDWD613.CO_REGISTRATION_DATE', 'CLMST.C1BHDT', 'CLMST.C1BHDT', 'TRN_CPDF_DBF.M_BRD_DATE', 'tblCustomers.fldIncorporationDate', 'MIS004.MI004_BIRTH_DATE_1', 'TMS_Customers.INCORPORATION_DATE', 'DL_CIF.CIF_DOB', 'FTDWM601.CB_COMPANY_NAME', 'tblCustomers.fldEmployer', 'FLACM.FLMEM1,FLACM.FLMEM2', 'CFEMPH.CFENA1', 'FTDWM601.CB_COMPANY_NAME', 'CLMST.MC1EMP ', 'TRN_CPDF_DBF.M_EMP_NAME', 'tblCustomers.fldEmployer', 'MIS004.MI004_EMPLOYER_NAME', 'FTDWM601.CB_EMP_SEC', 'MCGD1.MC1ESC', 'tblCustomers.fldEmploymentSector', 'CFEMPH.CFESEC', 'MIS004.MI004_EMPLOYMENT_SECTOR', 'CFEMPH.CFESEC', 'FTDWM601.CB_EMP_SEC', 'MCGD1.MC1ESC', 'TRN_CPDF_DBF.M_EMP_SECTOR', 'tblCustomers.fldEmploymentSector', 'MIS004.MI004_EMPLOYMENT_SECTOR', 'FLACM.FLMTT1,FLACM.FLMTT2', 'FTDWM601.CB_EMP_SEC', 'TRN_CPDF_DBF.M_EMP_SECTOR', 'tblCustomers.fldEmploymentSector', 'FLACM.FLMBGC', 'CFMAST.CFCOD2', 'FTDWD601.CB_ENTITY_TYPE,FTDWD613.CO_ENTITY_TYP', 'CLMST.C1TYPE', 'CLMST.C1TYPE', 'TRN_CPDF_DBF.M_CUST_TYPE', 'tblCustomers.fldEntityType', 'MIS004.MI004_CUSTOMER_TYPE', 'TMS_Customers.CUSTOMER_TYPE_CODE', 'FLACM.FLMGD1,FLACM.FLMGD2', 'CFMAST.CFCSEX', 'FTDWM601.CB_SEX', 'TRN_CPDF_DBF.M_GENDER', 'tblCustomers.fldGender', 'MI004_SEX_CODE', 'DL_CIF.CIF_GENDER_CODE', 'CFEMPH.CFEICM', 'FTDWM601.CB_MTH_BASIC_SALARY', 'TRN_CPDF_DBF.M_GROSS_INCOME', 'tblCustomers.fldGrossIncome', 'MIS004.MI004_CUDD_TOT_INCOME', 'FLACM.FLMNI1,FLACM.FLMNI2', 'CFMAST.CFSSNO', 'FTDWM601.CB_POLICE_IC_NO,FTDWM601.CB_ARMY_IC_NO,FTDWM601.CB_BNM_ASG_ID,FTDWM601.CB_OLD_IC_NO,FTDWM601.CB_NEW_IC_NO,FTDWM601.CB_PASSP_NO', 'CLMST.C1ICP#', 'TRN_CPDF_DBF.M_CUST_IC', 'tblCustomers.fldNewNRICNum,tblCustomers.fldOldNRICNum,tblCustomers.fldBNMAssignedID,tblCustomers.fldPassportNum', 'MIS004.MI004_CUSVDD_ID1,MIS015.MI015_CUST_NO', 'TMS_Customers.CUS_ID_TYP', 'DL_CIF.CIF_CLIENT_ID', 'FLACM.FLMNI1,FLACM.FLMNI2', 'CFMAST.CFSSCD', 'FTDWM601.CB_NEW_ICNO', 'TRN_CPDF_DBF.M_CUST_IC', 'tblCustomers.fldNewNRICNum', 'MIS004.MI004_CUSVDD_ID1', 'TMS_Customers.NATIONALITY_CODE', 'CLMST.C1ICP#', 'TRN_CPDF_DBF.M_CUST_IC', 'TMS_Customers.NATIONALITY_CODE', 'FLACM.FLMBGC,FLACM.FLMNI1,FLACM.FLMNI2,FLACM.FLMTT1,FLACM.FLMTT2', 'CFMAST.CFSSNO,CFMASTCFSSCD', 'FTDWM601.CB_CUSTOMER_IDNO,FTDWM601.CB_POLICE_IC_NO,FTDWM601.CB_ARMY_IC_NO,FTDWM601.CB_BNM_ASG_ID,FTDWM601.CB_OLD_IC_NO,FTDWM601.CB_NEW_IC_NO,FTDWM601.CB_PASSP_NO,FTDWM601.CB_NEW_ICNO_ID_TYPE,FTDWM601.CB_OLD_ICNO_ID_TYPE,FTDWM601.CB_PASSP_NO_ID_TYPE,FTDWM601.CB_ARMY_IC_NO_ID_TYPE,FTDWM601.CB_POLICE_IC_NO_ID_TYPE,FTDWM601.CB_BNM_ASG_ID_TYPE&&FTDWD613.CO_CORPORATE_ID,FTDWD613.CO_COMP_REG_NO,FTDWD613.CO_COMP_REG_NO2,FTDWD613.CO_BNM_ASG_ID_TYPE,FTDWD613.CO_COMP_REG_NO_ID_TYPE,FTDWD613.CO_COMP_REG_NO2_ID_TYPE', 'CLMST.C1IDTP,CLMST.C1ICP#', 'CLMST.C1IDTP,CLMST.C1ICP#', 'TRN_CPDF_DBF.M_ID_TYPE,TRN_CPDF_DBF.M_CUST_IC,TRN_CPDF_DBF.M_CUST_REG', 'tblCustomers.fldEntityType,tblCustomers.fldPrimeIdentificationType,tblCustomers.fldCompanyRegNum,tblCustomers.fldNewNRICNum,tblCustomers.fldOldNRICNum,tblCustomers.fldBNMAssignedID,tblCustomers.fldPassportNum', 'TMS_Customers.CUSTOMER_TYPE_CODE,TMS_Customers.CUS_ID_TYP', 'CLMST.C1ICP#', 'CLMST.C1ICP#', 'FLACM.FLMNI1,FLACM.FLMNI2,FLACM.FLMTT1,FLACM.FLMTT2', 'CFMAST.CFSSCD,CFMAST.CFSSNO', 'FTDWD613.CO_REG_IND,FTDWM601.CB_BILL_ADDR_CD', 'TRN_CPDF_DBF.M_ID_TYPE,TRN_CPDF_DBF.M_CUST_REG', 'tblCustomers.fldPrimeIdentificationType,tblCustomers.fldCompanyRegNum', 'MIS004.MI004_ID_TYPE,MIS004.MI004_CUSVDD_ID1', 'MI004.MI004_NATONALITY_CD', 'FLACM.FLMNP1,FLACM.FLMNP2 ', 'CFMAST.CFCITZ', 'FTDWM601.CB_NATIONALITY', 'CLMST.C1NLTY', 'CLMST.C1NLTY', 'TRN_CPDF_DBF.M_UDF_CNTRY,TRN_CPDF_DBF.M_ID_TYPE,TRN_CPDF_DBF.M_CUST_IC', 'tblCustomers.fldNationality', 'MIS004.MI004_NATONALITY_CD', 'TMS_Customers.NATIONALITY_CODE', 'MIS004.MI004_NATONALITY_CD', 'MCGD1.MC1ESC', 'FLATX.FAXTX$', 'LNDHIS.LHCAMT', 'CLHST.CSTX$', 'FRTRXTBL.F9_FRTRXTBL_TRX_AMT', 'mtf.total_amount,mtf.repo_amount,mtf.trade_amount,mtf.funded_amount,mtf.unfunded_amount', 'MIS099.MI099_AMOUNT', 'MIS100.MI100_AMOUNT', 'FLATX.FAXTDT', 'LNDHIS.LHPSTD,LNDHIS.LHPST6', 'FTDWD603.CT_TRXN_DATE,FTDWD603.CT_POST_DATE', 'CLHST.CSTXDT', 'FRTRXTBL.F9_FRTRXTBL_TRX_DT', 'MRX_TRANS_D.TRANS_DT', 'POR_TRANSACTIONS.TXN_DATE', 'MIS099.MI099_TRAN_DATE', 'MIS100.MI100_TRAN_DATE', 'TMS_Transactions.POSTING_DATE', 'CFCOLD.CCCIFN  ', 'MIS006.MI006_GAURANTOR_ID_NO', 'CFCOLD.CCCIFN']\n"
     ]
    }
   ],
   "source": [
    "#store values of sub table in list\n",
    "mainColumn_values = []\n",
    "columns = df.columns.to_list()\n",
    "target_columns = ['main_column']\n",
    "for index, row in df.iterrows():\n",
    "    for col in target_columns:\n",
    "        mainColumn_value = row[col]\n",
    "        mainColumn_values.append(mainColumn_value)\n",
    "\n",
    "print(mainColumn_values)"
   ]
  },
  {
   "attachments": {},
   "cell_type": "markdown",
   "metadata": {},
   "source": [
    "Sub Table and Columns"
   ]
  },
  {
   "cell_type": "code",
   "execution_count": 31,
   "metadata": {},
   "outputs": [
    {
     "name": "stdout",
     "output_type": "stream",
     "text": [
      "[nan, nan, nan, nan, nan, nan, nan, nan, nan, nan, nan, nan, nan, nan, nan, nan, nan, nan, nan, nan, nan, 'SSSTAT,CFCOLD', 'MIS022', nan, 'CFCOLE', 'MIS022', 'CFCOLE', 'MIS022', nan, nan, nan, nan, 'CFCOLD', 'MIS022', nan, nan, 'MIS022', 'MIS022', 'CFCOLD', nan, nan, nan, nan, nan, nan, 'CFCOLD', 'CFCOLD', 'MIS022', nan, 'CFCOLD', 'CFCOLD', nan, nan, nan, nan, 'CFCOLD', 'MIS022', 'CFCOLD', nan, nan, nan, nan, nan, nan, 'CFCOLD', 'MIS022', 'CFCOLD', nan, 'INBLPARKWF', 'MIS006', 'CFCOLD', 'CFCOLD', 'MIS022', 'CFCOLD', nan, nan, nan, 'INL131WF', 'TCS_JFALON', 'INL131WF', 'TCS_JFALON', 'INL131WF', 'TCS_JFALON', 'INL131WF', 'TCS_JFADEP', 'CFCOLD', 'TCS_JFADEP', 'TCS_JFADEP', nan, 'INL131WF', 'MIS004,TCS_JFALON', 'MIS022', nan, 'CFCOLD', 'MIS022', 'MIS022', nan, nan, 'MIS004', 'MIS004', 'MIS004', 'CFMAST', 'MIS004', 'CFMAST', 'MIS004', 'CFMAST', 'MIS004', nan, nan, nan, nan, nan, nan, nan, nan, nan, 'MIS022', 'CFCOLD', 'MIS022', nan, nan, 'CFCOLD', 'CFCOLD', nan, nan, 'CFCOLD', 'MIS022', 'CFCOLD', nan, 'MIS022', nan, 'CFCOLD', 'MIS022', nan, nan, 'CFCOLD', 'MIS022', 'MIS022', nan, nan, nan, nan, nan, nan, 'MIS004', 'INBLPARKWF', 'MIS006', 'MIS022', 'CFCOLD', nan, 'MIS022', nan, 'MIS022', 'CFCOLD', 'MIS022', 'CFCOLD', 'MIS022', 'CFCOLD', 'MIS022', 'MIS022', nan, nan, nan, nan, nan, nan, nan, nan, nan, nan, nan, nan, nan, nan, nan, nan, nan, nan, nan, nan, nan, nan, 'CFMAST', 'FTDWM601', 'FTDWD613', 'CLMST', 'CLMST', 'TRN_CPDF_DBF', 'tblCustomers', 'MIS004', 'TMS_Customers', nan, nan, nan, nan, nan, nan, nan, nan, nan, 'TMS_Accounts', nan, nan, nan, nan, nan, nan, nan, nan, nan, nan, nan, nan, nan, nan, nan, nan, nan, nan, nan, nan, nan, nan, nan, nan, nan, nan, nan, nan, nan, nan, nan, nan, nan, nan, nan, nan, nan, nan, nan, nan, nan, nan, nan, nan, nan, nan, nan, nan, nan, nan, nan, nan, nan, nan, nan, nan, nan, nan, nan, 'pmf', nan, nan, nan, nan, nan, nan, nan, nan, nan, 'TMS_Accounts', 'FLACM', 'CFMAST', nan, nan, 'CLMST', 'CLMST', 'MRX_TRANS_D', 'tblCustomers', nan, 'TMS_Accounts', 'FLACM', 'FTDWM601', 'FTDWD613', 'CLMST', 'CLMST', 'TRN_CPDF_DBF', 'tblCustomers', 'MIS004', 'FTDWM601,FTDWD602', 'FTDWD613', 'CLMST', 'CLMST', 'TRN_CPDF_DBF,RX_TRANS_D', 'MIS004', 'TMS_Accounts', nan, nan, 'TRN_CPDF_DBF', nan, nan, nan, nan, nan, nan, nan, nan, nan, nan, nan, nan, nan, nan, nan, nan, nan, nan, nan, nan, nan, nan, nan, nan, nan, nan, nan, nan, nan, nan, nan, nan, nan, nan, nan, nan, nan, nan, nan, nan, nan, nan, nan, nan, nan, nan, nan, 'FLACM', 'CFMAST', 'FTDWM601', 'CLMST', 'CLMST', 'TRN_CPDF_DBF', 'tblCustomers', 'MIS004', 'TMS_Customers', 'DL_CIF', nan, nan, nan, nan, nan, nan, nan, nan, nan, nan, nan, nan, nan, nan, nan, nan, nan, nan, nan, nan, nan, nan, nan, nan, nan, nan, nan, nan, nan, nan, nan, nan, nan, nan, nan, nan, nan, nan, nan, nan, nan, nan, nan, nan, nan, nan, nan, nan, nan, nan, nan, nan, nan, nan, nan, nan, nan, nan, 'FTDWM601', 'tblCustomers', 'FLACM', 'CFEMPH', 'FTDWM601', 'CLMST', 'TRN_CPDF_DBF', 'tblCustomers', 'MIS004', 'FTDWM601', 'MCGD1', 'tblCustomers', 'CFEMPH', 'MIS004', nan, 'FTDWM601', 'MCGD1', 'TRN_CPDF_DBF', 'tblCustomers', nan, nan, nan, nan, nan, nan, nan, nan, nan, nan, nan, nan, nan, nan, 'FLACM', 'CFMAST', 'FTDWM601', 'TRN_CPDF_DBF', 'tblCustomers', 'MIS004', 'DL_CIF', 'CFEMPH', 'FTDWM601', 'TRN_CPDF_DBF', 'tblCustomers', 'MIS004', 'FLACM', 'CFMAST', nan, 'CLMST', 'TRN_CPDF_DBF', 'tblCustomers', 'MIS004,MIS015', nan, 'DL_CIF', 'FLACM', 'CFMAST', 'FTDWM601', 'TRN_CPDF_DBF', 'tblCustomers', 'MIS004', 'TMS_Customers', 'CLMST', 'TRN_CPDF_DBF', 'TMS_Customers', nan, nan, nan, nan, nan, nan, nan, nan, 'CLMST', 'CLMST', 'FLACM', 'CFADDR', 'FTDWM601', 'TRN_CPDF_DBF', 'tblCustomers', 'MIS004', 'MIS004', nan, nan, nan, nan, nan, nan, nan, 'MIS004', nan, 'MIS004', nan, nan, nan, nan, nan, nan, 'MIS099', nan, nan, nan, nan, nan, nan, nan, nan, nan, nan, nan, nan, nan, 'CFCOLD']\n"
     ]
    }
   ],
   "source": [
    "#store values of main column in list\n",
    "subTable_values = []\n",
    "columns = df.columns.to_list()\n",
    "target_columns = ['sub_table']\n",
    "for index, row in df.iterrows():\n",
    "    for col in target_columns:\n",
    "        subTable_value = row[col]\n",
    "        subTable_values.append(subTable_value)\n",
    "\n",
    "print(subTable_values)"
   ]
  },
  {
   "cell_type": "code",
   "execution_count": 32,
   "metadata": {},
   "outputs": [
    {
     "name": "stdout",
     "output_type": "stream",
     "text": [
      "[nan, nan, nan, nan, nan, nan, nan, nan, nan, nan, nan, nan, nan, nan, nan, nan, nan, nan, nan, nan, nan, 'CFCOLD.CCCOUN,SSSTAT.SSSTAC', 'MIS022.MI022_CPRO_COUNTRY_CODE,MIS022.MI022_CTTL_STATE', nan, 'CFCOLE.CCDCOD,CFCOLE.CCSLDC', 'MIS022.MI022_SALE_VALUE,MIS022.MI022_COLM_TYPE', 'CFCOLE.CCDCOD,CFCOLE.CCSLDC', 'MIS022.MI022_SALE_VALUE,MIS022.MI022_COLM_TYPE', nan, nan, nan, nan, 'CFCOLD.CCDCOD', 'MI022_COLM_TYPE', nan, nan, 'MIS022.MI022_COLM_TYPE', 'MIS022.MI022_COLM_TYPE', 'MIS022.MI022_COLM_TYPE', nan, nan, nan, nan, nan, nan, 'CFCOLD.CCDCOD,CFCOLD.CCDSTS', 'CFCOLD.CCDCOD', 'MIS022.MI022_COLM_TYPE', nan, 'CFCOLD.CCDCOD', 'CFCOLD.CCDCOD', nan, nan, nan, nan, 'CFCOLD.CCDCOD', 'MIS022.MI022_COLM_TYPE', 'CFCOLD.CCDCOD', nan, nan, nan, nan, nan, nan, 'CFCOLD.CCDCOD,CFCOLD.CCPAMT', 'MIS022.MI022_CSHR_TOTAL_VALUE', 'CFCOLD.CCDCOD', nan, 'INBLPARKWF.LKFTYP', 'MIS006.MI006_BOIS_CCRIS_FCLTY_TYP', 'CFCOLD.CCVALC', 'CFCOLD.CCDCOD,CFCOLD.CCDCMV', 'MIS022.MI022_COLM_TYPE,MIS022.MI022_APPRAISAL_VALUE', 'CFCOLD.CCDCOD', nan, nan, nan, ',BNMPCD', 'TCS_JFALON.JFALON_N_LOAN_PURPOSE', 'INL131WF.BNMPCD', 'TCS_JFALON.JFALON_N_LOAN_PURPOSE', 'INL131WF.BNMPCD', 'TCS_JFALON.JFALON_N_LOAN_PURPOSE', 'INL131WF.BNMPCD', 'TCS_JFADEP.JFADEP_N_TERM_DAY', 'CFCOLD.CCTENT', 'TCS_JFADEP.JFADEP_N_TERM_DAY', 'TCS_JFADEP.JFADEP_N_TERM_DAY', nan, 'INL131WF.BNMPCD', 'TCS_JFALON.JFALON_N_LOAN_PURPOSE,MIS004.MI004_CUSTOMER_TYPE', 'MIS022.MI022_COLM_TYPE,MIS022.MI022_CPRO_FORCD_SALE_VALUE', nan, 'CFCOLD.CCDCOD', 'MIS022.MI022_COLM_TYPE', 'MIS022.MI022_COLM_TYPE', nan, nan, 'MIS004.MI004_ID_TYPE', 'MIS004.MI004_ID_TYPE', 'MIS004.MI004_ID_TYPE', 'CFMAST.CFSSCD', 'MIS004.MI004_ID_TYPE', 'CFMAST.CFSSCD', 'MIS004.MI004_ID_TYPE', 'CFMAST.CFSSCD', 'MIS004.MI004_ID_TYPE', nan, nan, nan, nan, nan, nan, nan, nan, nan, 'MIS022.MI022_COLM_TYPE', 'CFCOLD.CCPAMT', 'MIS022.MI022_COLM_TYPE', nan, nan, 'CFCOLD.CCPAMT,CFCOLD.CCRESV', 'CFCOLD.CCGPCT', nan, nan, 'CFCOLD.CCDCOD', 'MIS022.MI022_COLM_TYPE', 'CFCOLD.CCDCOD', nan, 'MIS022.MI022_COLM_TYPE,MIS022.MI022_APPRAISAL_VALUE', nan, 'CFCOLD.CCDCOD', 'MIS022.MI022_COLM_TYPE', nan, nan, 'CFCOLD.CCDCOD,CFCOLD.CCDCMV', 'MIS022.MI022_RESERVD_VAL,MIS022.MI022_APPRAISAL_VALUE', 'MIS022.MI022_COLM_TYPE', nan, nan, nan, nan, nan, nan, 'MIS004.MI004_CUSTOMER_TYPE', 'INBLPARKWF.LKFTYP', 'MIS006.MI006_BOIS_CCRIS_FCLTY_TYP', 'MIS022.MI022_APPRAISAL_VALUE,MIS022.MI022_COLM_TYPE', 'CFCOLD.CCDCOD', nan, 'MI022_RESERVD_VAL', nan, 'MIS022.MI022_COLM_TYPE', 'CFCOLD.CCDCOD', 'MIS022.MI022_COLM_TYPE', 'CFCOLD.CCDSID,CFCOLD.CCDCOD', 'MIS022.MI022_COLM_TYPE', 'CFCOLD.CCOFF6', 'MIS022.MI022_COLM_TYPE', 'MIS022.MI022_COLM_TYPE', nan, nan, nan, nan, nan, nan, nan, nan, nan, nan, nan, nan, nan, nan, nan, nan, nan, nan, nan, nan, nan, nan, 'CFMAST.CFBNMI', 'FTDWM601.CB_HOME_STATE,FTDWM601.CB_CO_STATE,FTDWM601.CB_ALT1_BILL_STATE,FTDWM601.CB_ALT2_BILL_STATE ,FTDWM601.CB_HOME_CNTRY_CD,FTDWM601.CB_CO_CNTRY_CD,FTDWM601.CB_ALT1_BILL_CNTRY_CD,FTDWM601.CB_ALT2_BILL_CNTRY_CD ', 'FTDWD613.CO_MAIL_CNTRY_CD,FTDWD613.CO_MAIL_STATE,FTDWD613.CO_REG_CNTRY_CD,FTDWD613.CO_REG_STATE,FTDWD613.CO_OPR_CNTRY_CD,FTDWD613.CO_OPR_STATE,FTDWD613.CO_PAR_CNTRY_CD,FTDWD613.CO_PAR_STATE,FTDWD613.CO_MAINBK_CNTRY_CD,FTDWD613.CO_MAINBK_STATE', 'CLMST.C1NLTY,CLMST.C1RSCD,CLMST.C1FIL1 ', 'CLMST.CLFIL1,CLMST.CLRSCD', 'TRN_CPDF_DBF.M_COUNTRY,TRN_CPDF_DBF.M_STCODE', 'tblCustomers.fldCorrCountry,tblCustomers.fldPermCountry,tblCustomers.fldCorrState,tblCustomers.fldPermState', 'MIS004.MI004_CUSVAA_STATE_CODE,MIS004.MI004_TEMP_STATE_CODE,MIS004.MI004_CORR_ADD_COUNTRY_CD,MIS004.MI004_PERM_ADD_COUNTRY_CD', 'TMS_Customers.NATIONALITY_CODE', nan, nan, nan, nan, nan, nan, nan, nan, nan, nan, nan, nan, nan, nan, nan, nan, nan, nan, nan, nan, nan, nan, nan, nan, nan, nan, nan, nan, nan, nan, nan, nan, nan, nan, nan, nan, nan, nan, nan, nan, nan, nan, nan, nan, nan, nan, nan, nan, nan, nan, nan, nan, nan, nan, nan, nan, nan, nan, nan, nan, nan, nan, nan, nan, nan, nan, nan, nan, nan, 'portfolio', nan, nan, nan, nan, nan, nan, nan, nan, nan, 'TMS_Accounts.MBL_NUM', 'FLACM.FLMCTY', 'CFMAST.CFCITZ', nan, nan, 'CLMST.C1NLTY', 'CLMST.C1NLTY', 'MRX_TRANS_D.POSTCODE', 'tblCustomers.fldCorrCountry,tblCustomers.fldPermCountry', nan, 'TMS_Accounts.POSTAL_CODE', 'FLACM.FLMSTC', 'FTDWM601.CB_ALT1_BILL_STATE,FTDWM601.CB_ALT2_BILL_STATE,FTDWM601.CB_HOME_STATE,FTDWM601.CB_CO_STATE', 'FTDWD613.CO_MAIL_STATE,FTDWD613.CO_REG_STATE,FTDWD613.CO_MAIL_STATE,FTDWD613.CO_PAR_STATE,FTDWD613.CO_MAINBK_STATE', 'CLMST.C1FIL1 ', 'CLMST.CLFIL1', 'TRN_CPDF_DBF.M_STCODE', 'tblCustomers.fldCorrState,tblCustomers.fldPermState', 'MIS004.MI004_CUSVAA_STATE_CODE,MIS004.MI004_TEMP_STATE_CODE', 'FTDWD602.CB_BILL_ADDR_CD,FTDWM601.CB_HOME_POSTCODE,FTDWM601.CB_CO_POSTCODE,FTDWM601.CB_ALT1_BILL_POSTCODE,FTDWM601.CB_ALT2_BILL_POSTCODE', 'FTDWD613.CO_REG_ADD_POSTCODE,FTDWD613.CO_OPR_ADD_POSTCODE,FTDWD613.CO_MAIL_ADD_POSTCODE,FTDWD613.CO_PAR_ADD_POSTCODE,FTDWD613.CO_MAINBK_ADD_POSTCODE', 'CLMST.C1PSCD', 'CLMST.CLPSCD', 'TRN_CPDF_DBF.M_POSTCODE,MRX_TRANS_D.POSTCODE', 'MIS004.MI004_POSTCODE', 'TMS_Accounts.POSTAL_CODE', nan, nan, 'TRN_CPDF_DBF.M_CUST_REG', nan, nan, nan, nan, nan, nan, nan, nan, nan, nan, nan, nan, nan, nan, nan, nan, nan, nan, nan, nan, nan, nan, nan, nan, nan, nan, nan, nan, nan, nan, nan, nan, nan, nan, nan, nan, nan, nan, nan, nan, nan, nan, nan, nan, nan, nan, nan, 'FLACM.FLMNI1,FLACM.FLMNI2,FLACM.FLMTT1,FLACM.FLMTT2', 'CFMAST.CFSSCD,CFMAST.CFSSNO', 'FTDWM601.CB_NEW_IC_NO', 'CLMST.C1IDTP,CLMST.C1ICP#', 'CLMST.MC1TYP,CLMST.C1ICP#', 'TRN_CPDF_DBF.M_ID_TYPE,TRN_CPDF_DBF.M_CUST_IC', 'tblCustomers.fldNewNRICNum', 'MIS004.MI004_ID_TYPE,MIS004.MI004_CUSVDD_ID1', 'TMS_Customers.CUS_ID_TYP', 'DL_CIF.CIF_CLIENT_ID', nan, nan, nan, nan, nan, nan, nan, nan, nan, nan, nan, nan, nan, nan, nan, nan, nan, nan, nan, nan, nan, nan, nan, nan, nan, nan, nan, nan, nan, nan, nan, nan, nan, nan, nan, nan, nan, nan, nan, nan, nan, nan, nan, nan, nan, nan, nan, nan, nan, nan, nan, nan, nan, nan, nan, nan, nan, nan, 'FTDWM601.CB_EMP_TYPE,FTDWM601.CB_OCCUPN,FTDWM601.CB_EMP_SEC', 'tblCustomers.fldEmploymentType,tblCustomers.fldOccupation,tblCustomers.fldEmploymentSector', 'FLACM.FLMOC1,FLACM.FLMOC2', 'CFEMPH.CFEJCD', 'FTDWM601.CB_OCCUPN', 'CLMST.MC1OCC', 'TRN_CPDF_DBF.M_OCCUPATION', 'tblCustomers.fldOccupation', 'MIS004.MI004_OCCUPATION_CODE', 'FTDWM601.CB_EMP_TYPE', 'MCGD1.MC1ETY', 'tblCustomers.fldEmploymentType', 'CFEMPH.CFETCD', 'MIS004.MI004_EMPLOYMENT_TYPE', nan, 'FTDWM601.CB_EMP_TYPE', 'MCGD1.MC1ETY', 'TRN_CPDF_DBF.M_EMP_TYPE', 'tblCustomers.fldEmploymentType', nan, nan, nan, nan, nan, nan, nan, nan, nan, nan, nan, nan, nan, nan, 'FLACM.FLMNI1,FLACM.FLMNI2,FLACM.FLMTT1,FLACM.FLMTT2', 'CFMAST.CFSSCD', 'FTDWM601.CB_NEW_IC_NO,FTDWM601.CB_NEW_ICNO_ID_TYPE', 'TRN_CPDF_DBF.M_ID_TYPE', 'tblCustomers.fldPrimeIdentificationType,tblCustomers.fldNewNRICNum', 'MI004_ID_TYPE,MI004_CUSVDD_ID1', 'DL_CIF.CIF_ID_TYPE,DL_CIF.CIF_CLIENT_ID', 'CFEMPH.CFETCD,CFEMPH.CFESEC', 'FTDWM601.CB_EMP_TYPE', 'TRN_CPDF_DBF.M_CUST_TYPE,TRN_CPDF_DBF.M_EMP_TYPE', 'tblCustomers.fldEntityType,tblCustomers.fldEmploymentType', 'MIS004.MI004_CUSTOMER_TYPE,MIS004.MI004_EMPLOYMENT_TYPE', 'FLACM.FLMTT1,FLACM.FLMTT2', 'CFMAST.CFSSCD', nan, 'CLMST.MC1TYP', 'TRN_CPDF_DBF.M_ID_TYPE', 'tblCustomers.fldPrimeIdentificationType', 'MIS004.MI004_ID_TYPE,MIS015.MI015_ID_TYPE ', nan, 'DL_CIF.CIF_ID_TYPE', 'FLACM.FLMNP1,FLACM.FLMNP2,FLACM.FLMNI1,FLACM.FLMNI2,FLACM.FLMTT1,FLACM.FLMTT2', 'CFMAST.CFSSNO', 'FTDWM601.CB_NEW_ICNO_ID_TYPE', 'TRN_CPDF_DBF.M_ID_TYPE', 'tblCustomers.fldNationality,tblCustomers.fldPrimeIdentificationType', 'MIS004.MI004_ID_TYPE', 'TMS_Customers.CUS_ID_TYP', 'CLMST.C1IDTP', 'TRN_CPDF_DBF.M_ID_TYPE,TRN_CPDF_DBF.M_UDF_CNTRY', 'TMS_Customers.CUS_ID_TYP', nan, nan, nan, nan, nan, nan, nan, nan, 'CLMST.C1IDTP', 'CLMST.C1IDTP', 'FLACM.FLMSTC', 'CFADDR.CFSTAT', 'FTDWM601.CB_HOME_STATE,FTDWM601.CB_CO_STATE,FTDWM601.CB_ALT1_BILL_ADDR_STATE', 'TRN_CPDF_DBF.M_STCODE', 'tblCustomers.fldPermState,tblCustomers.fldCorrState', 'MIS004.MI004_CUSVAA_STATE_CODE', 'MIS004.MI007_PAYROLL_FLAG,MIS004.MI004_EMPLOYER_NAME,MIS004.MI004_VISA_TYPE', nan, nan, nan, nan, nan, nan, nan, 'MI004_ID_TYPE,MIS004.MI004_ID_DOC_TYP', nan, 'MIS004.MI004_ID_TYPE,MIS004.MI004_ID_DOC_TYP', nan, nan, nan, nan, nan, nan, 'MIS099.MI099_TRN_TYPE', 'MIS100.MI100_TRN_TYPE', nan, nan, nan, nan, nan, nan, nan, nan, nan, nan, nan, nan, 'CFMAST.CFSSCD']\n"
     ]
    }
   ],
   "source": [
    "#store values of sub column in list\n",
    "subColumn_values = []\n",
    "columns = df.columns.to_list()\n",
    "target_columns = ['sub_column']\n",
    "for index, row in df.iterrows():\n",
    "    for col in target_columns:\n",
    "        subColumn_value = row[col]\n",
    "        subColumn_values.append(subColumn_value)\n",
    "\n",
    "print(subColumn_values)"
   ]
  },
  {
   "attachments": {},
   "cell_type": "markdown",
   "metadata": {},
   "source": [
    "Dependency Table and Columns"
   ]
  },
  {
   "cell_type": "code",
   "execution_count": 55,
   "metadata": {},
   "outputs": [
    {
     "name": "stdout",
     "output_type": "stream",
     "text": [
      "[nan, nan, nan, nan, nan, nan, nan, nan, nan, nan, nan, nan, nan, nan, nan, nan, nan, nan, nan, nan, nan, nan, nan, nan, nan, nan, nan, nan, nan, nan, nan, nan, nan, nan, nan, nan, nan, nan, nan, nan, nan, nan, nan, nan, nan, nan, nan, nan, nan, nan, nan, nan, nan, nan, nan, nan, nan, nan, nan, nan, nan, nan, nan, nan, nan, nan, nan, nan, nan, nan, nan, nan, nan, nan, nan, nan, nan, nan, nan, nan, nan, nan, nan, nan, nan, nan, nan, nan, nan, nan, nan, nan, nan, nan, nan, nan, nan, nan, nan, nan, nan, nan, nan, nan, nan, nan, nan, nan, nan, nan, nan, nan, nan, nan, nan, nan, nan, nan, nan, nan, nan, nan, nan, nan, nan, nan, nan, nan, nan, nan, nan, nan, nan, nan, nan, nan, nan, nan, nan, nan, nan, nan, nan, nan, nan, nan, nan, nan, nan, nan, nan, nan, nan, nan, nan, nan, nan, nan, nan, nan, nan, nan, nan, nan, nan, nan, nan, nan, nan, nan, nan, nan, nan, nan, nan, nan, nan, nan, nan, nan, nan, nan, nan, nan, nan, nan, nan, nan, nan, nan, nan, nan, nan, nan, nan, nan, nan, nan, nan, nan, nan, nan, nan, nan, nan, nan, nan, nan, nan, nan, nan, nan, nan, nan, nan, nan, nan, nan, nan, nan, nan, nan, nan, nan, nan, nan, nan, nan, nan, nan, nan, nan, nan, nan, nan, nan, nan, nan, nan, nan, nan, nan, nan, nan, nan, nan, nan, nan, nan, nan, nan, nan, nan, nan, nan, nan, nan, nan, nan, nan, nan, nan, nan, nan, nan, nan, nan, nan, nan, nan, nan, nan, nan, nan, nan, nan, nan, nan, nan, nan, nan, nan, nan, nan, nan, nan, nan, nan, nan, nan, nan, nan, nan, nan, nan, nan, nan, nan, nan, nan, nan, nan, nan, nan, nan, nan, nan, nan, nan, nan, nan, nan, nan, nan, nan, nan, nan, nan, nan, nan, nan, nan, nan, nan, nan, nan, nan, nan, nan, nan, nan, nan, nan, nan, nan, nan, nan, nan, nan, nan, nan, nan, nan, nan, nan, nan, nan, nan, nan, nan, nan, nan, nan, nan, nan, nan, nan, nan, nan, nan, nan, nan, nan, nan, nan, nan, nan, nan, nan, nan, nan, nan, nan, nan, nan, nan, nan, nan, nan, nan, nan, nan, nan, nan, nan, nan, nan, nan, nan, nan, nan, nan, nan, nan, nan, nan, nan, nan, nan, nan, nan, nan, nan, nan, nan, nan, nan, nan, nan, nan, nan, nan, nan, nan, nan, nan, nan, nan, nan, nan, nan, nan, nan, nan, nan, nan, nan, nan, nan, nan, nan, nan, nan, nan, nan, nan, nan, nan, nan, nan, nan, nan, nan, nan, nan, nan, nan, nan, nan, nan, nan, nan, nan, nan, nan, nan, nan, nan, nan, nan, nan, nan, nan, nan, nan, nan, nan, nan, nan, nan, nan, nan, nan, nan, nan, nan, nan, nan, nan, nan, nan, nan, nan, nan, nan, nan, nan, nan, nan, nan, nan, nan, nan, nan, nan, nan, nan, nan, nan, nan, nan, nan, nan, nan, nan, nan, nan, nan, nan, nan, nan, nan, nan, nan, nan, nan, nan, nan, nan, nan, nan, nan, nan, nan, nan, nan]\n"
     ]
    }
   ],
   "source": [
    "#store values of dependency table in list\n",
    "dependencyTable_values = []\n",
    "columns = df.columns.to_list()\n",
    "target_columns = ['dependency_table']\n",
    "for index, row in df.iterrows():\n",
    "    for col in target_columns:\n",
    "        dependencyTable_value = row[col]\n",
    "        dependencyTable_values.append(dependencyTable_value)\n",
    "\n",
    "print(dependencyTable_values)"
   ]
  },
  {
   "cell_type": "code",
   "execution_count": 56,
   "metadata": {},
   "outputs": [
    {
     "name": "stdout",
     "output_type": "stream",
     "text": [
      "[nan, nan, nan, nan, nan, nan, nan, nan, nan, nan, nan, nan, nan, nan, nan, nan, nan, nan, nan, nan, nan, nan, nan, nan, nan, nan, nan, nan, nan, nan, nan, nan, nan, nan, nan, nan, nan, nan, nan, nan, nan, nan, nan, nan, nan, nan, nan, nan, nan, nan, nan, nan, nan, nan, nan, nan, nan, nan, nan, nan, nan, nan, nan, nan, nan, nan, nan, nan, nan, nan, nan, nan, nan, nan, nan, nan, nan, nan, nan, nan, nan, nan, nan, nan, nan, nan, nan, nan, nan, nan, nan, nan, nan, nan, nan, nan, nan, nan, nan, nan, nan, nan, nan, nan, nan, nan, nan, nan, nan, nan, nan, nan, nan, nan, nan, nan, nan, nan, nan, nan, nan, nan, nan, nan, nan, nan, nan, nan, nan, nan, nan, nan, nan, nan, nan, nan, nan, nan, nan, nan, nan, nan, nan, nan, nan, nan, nan, nan, nan, nan, nan, nan, nan, nan, nan, nan, nan, nan, nan, nan, nan, nan, nan, nan, nan, nan, nan, nan, nan, nan, nan, nan, nan, nan, nan, nan, nan, nan, nan, nan, nan, nan, nan, nan, nan, nan, nan, nan, nan, nan, nan, nan, nan, nan, nan, nan, nan, nan, nan, nan, nan, nan, nan, nan, nan, nan, nan, nan, nan, nan, nan, nan, nan, nan, nan, nan, nan, nan, nan, nan, nan, nan, nan, nan, nan, nan, nan, nan, nan, nan, nan, nan, nan, nan, nan, nan, nan, nan, nan, nan, nan, nan, nan, nan, nan, nan, nan, nan, nan, nan, nan, nan, nan, nan, nan, nan, nan, nan, nan, nan, nan, nan, nan, nan, nan, nan, nan, nan, nan, nan, nan, nan, nan, nan, nan, nan, nan, nan, nan, nan, nan, nan, nan, nan, nan, nan, nan, nan, nan, nan, nan, nan, nan, nan, nan, nan, nan, nan, nan, nan, nan, nan, nan, nan, nan, nan, nan, nan, nan, nan, nan, nan, nan, nan, nan, nan, nan, nan, nan, nan, nan, nan, nan, nan, nan, nan, nan, nan, nan, nan, nan, nan, nan, nan, nan, nan, nan, nan, nan, nan, nan, nan, nan, nan, nan, nan, nan, nan, nan, nan, nan, nan, nan, nan, nan, nan, nan, nan, nan, nan, nan, nan, nan, nan, nan, nan, nan, nan, nan, nan, nan, nan, nan, nan, nan, nan, nan, nan, nan, nan, nan, nan, nan, nan, nan, nan, nan, nan, nan, nan, nan, nan, nan, nan, nan, nan, nan, nan, nan, nan, nan, nan, nan, nan, nan, nan, nan, nan, nan, nan, nan, nan, nan, nan, nan, nan, nan, nan, nan, nan, nan, nan, nan, nan, nan, nan, nan, nan, nan, nan, nan, nan, nan, nan, nan, nan, nan, nan, nan, nan, nan, nan, nan, nan, nan, nan, nan, nan, nan, nan, nan, nan, nan, nan, nan, nan, nan, nan, nan, nan, nan, nan, nan, nan, nan, nan, nan, nan, nan, nan, nan, nan, nan, nan, nan, nan, nan, nan, nan, nan, nan, nan, nan, nan, nan, nan, nan, nan, nan, nan, nan, nan, nan, nan, nan, nan, nan, nan, nan, nan, nan, nan, nan, nan, nan, nan, nan, nan, nan, nan, nan, nan, nan, nan, nan, nan, nan, nan, nan, nan, nan, nan, nan, nan, nan, nan]\n"
     ]
    }
   ],
   "source": [
    "#store values of dependency table in list\n",
    "dependencyColumn_values = []\n",
    "columns = df.columns.to_list()\n",
    "target_columns = ['dependency_column']\n",
    "for index, row in df.iterrows():\n",
    "    for col in target_columns:\n",
    "        dependencyColumn_value = row[col]\n",
    "        dependencyColumn_values.append(dependencyColumn_value)\n",
    "\n",
    "print(dependencyColumn_values)"
   ]
  },
  {
   "attachments": {},
   "cell_type": "markdown",
   "metadata": {},
   "source": [
    "Extract Rule Code into List\n"
   ]
  },
  {
   "cell_type": "code",
   "execution_count": 33,
   "metadata": {},
   "outputs": [
    {
     "name": "stdout",
     "output_type": "stream",
     "text": [
      "['Acc_Number_1_AMS', 'Acc_Number_1_CLS', 'Acc_Number_1_CPR', 'Acc_Number_1_LOC', 'Acc_Number_1_TCS_1', 'Acc_Number_1_TCS_2', 'Acc_Number_1_Tomswin', 'Acc_Open_Dt_1_AMS', 'Acc_Open_Dt_1_CPR', 'Acc_Open_Dt_1_EAM', 'Acc_Open_Dt_1_MRX', 'Acc_Open_Dt_1_POR', 'Acc_Open_Dt_1_TCS_1', 'Acc_Open_Dt_1_TCS_2', 'Acc_Open_Dt_1_Tomswin', 'Acc_RM_Cd_1_EAM_1', 'Acc_RM_Cd_1_EAM_2', 'Acc_RM_Cd_1_MAS', 'Acc_RM_Cd_1_MRX', 'Acc_RM_Cd_1_TCS_1', 'Acc_RM_Cd_1_TCS_2', 'Coll_Addr_Line1_1_CLS', 'Coll_Addr_Line1_1_TCS', 'Coll_Category_Cd_1_CLS', 'Coll_Sale_Dt_1_CLS', 'Coll_Sale_Dt_1_TCS', 'Coll_Sale_Dt_2_CLS', 'Coll_Sale_Dt_2_TCS', 'Coll_Start_Dt_1_CLS', 'Coll_Start_Dt_1_TCS', 'Coll_Start_Dt_2_CLS', 'Coll_Start_Dt_2_TCS', 'Coll_Start_Dt_3_CLS', 'Coll_Start_Dt_3_TCS', 'Coll_Sts_2_CLS', 'Coll_Sts_2_TCS', 'Coll_Sts_Vehicle_1_TCS', 'Coll_Sub_Type_2_TCS', 'Coll_Property_Town_1_TCS', 'Coll_Type_Cd_2_CLS', 'Coll_Type_Cd_2_TCS', 'Coll_Ctry_Ori_1_CLS', 'Coll_Ctry_Ori_1_TCS', 'Coll_Expiration_Dt_1_CLS', 'Coll_Expiration_Dt_2_CLS', 'Coll_Expiration_Dt_3_CLS', 'Coll_Expiration_Dt_4_CLS', 'Coll_Grntee_Maturaty_Dt_1_TCS', 'Coll_Grntee_Maturaty_Dt_2_TCS', 'Coll_Grntee_Maturity_Dt_1_CLS', 'Coll_Grntee_Maturity_Dt_2_CLS', 'Coll_DOB_1_CLS', 'Coll_DOB_1_TCS', 'Coll_DOB_2_CLS', 'Coll_DOB_2_TCS', 'Coll_Grntee_Dt_1_CLS', 'Coll_Grntee_Dt_1_TCS', 'Coll_Grntee_Dt_2_CLS', 'Coll_Grntee_Dt_2_TCS', 'Coll_Latest_Sts_Dt_1_TCS', 'Coll_DOR_1_CLS', 'Coll_DOR_1_TCS', 'Coll_DOR_2_CLS', 'Coll_DOR_2_TCS', 'Coll_Sale_Purchase_Dt_1_CLS', 'Coll_Sale_Purchase_Dt_1_TCS', 'Coll_Sale_Purchase_Dt_2_CLS', 'Coll_Sale_Purchase_Dt_2_TCS', 'Coll_Sold_Dt_1_CLS', 'Coll_Sold_Dt_1_TCS', 'Coll_Valuation_Dt_1_CLS', 'Coll_Valuation_Dt_2_CLS', 'Coll_Valuation_Dt_2_TCS', 'Coll_Valuation_Dt_3_CLS', 'Coll_Valuation_Dt_3_TCS', 'Coll_Entity_Type_1_CLS', 'Coll_Entity_Type_1_TCS', 'Coll_Fac_Type_2_CLS', 'Coll_Fac_Type_2_TCS', 'Coll_Fac_Type_3_CLS', 'Coll_Fac_Type_3_TCS', 'Coll_Fac_Type_4_CLS', 'Coll_Fac_Type_4_TCS', 'Coll_Fac_Type_5_CLS', 'Coll_Fac_Type_5_TCS', 'Coll_Fac_Type_6_CLS', 'Coll_Fac_Type_6_TCS', 'Coll_Fac_Type_7_TCS', 'Coll_Fac_Type_8_TCS', 'Coll_Fac_Type_9_CLS', 'Coll_Fac_Type_9_TCS', 'Coll_Forced_Sale_Val_Dt_1_TCS', 'Coll_Forced_Sale_Val_Dt_2_TCS', 'Coll_Forced_Sale_Val_1_CLS', 'Coll_Forced_Sale_Val_1_TCS', 'Coll_Grntee_Scheme_1_TCS', 'Coll_Grntor_ID_2_CLS', 'Coll_Grntor_ID_2_TCS', 'Coll_Grntor_ID_3_TCS', 'Coll_Grntor_ID_4_TCS', 'Coll_Grntor_ID_5_TCS', 'Coll_Grntor_ID_6_CLS', 'Coll_Grntor_ID_6_TCS', 'Coll_Grntor_ID_7_CLS', 'Coll_Grntor_ID_7_TCS', 'Coll_Grntor_ID_8_CLS', 'Coll_Grntor_ID_8_TCS', 'Coll_Grntor_Name_1_CLS', 'Coll_Grntor_Name_1_TCS', 'Coll_Grntor_Name_2_CLS', 'Coll_Grntor_Name_2_TCS', 'Coll_Instrument_Of_Claim_1_CLS', 'Coll_Instrument_Of_Claim_1_TCS', 'Coll_Land_Use_1_CLS', 'Coll_Land_Use_1_TCS', 'Coll_Market_Price_1_CLS', 'Coll_Market_Price_1_TCS', 'Coll_Market_Price_2_CLS', 'Coll_Market_Price_2_TCS', 'Coll_Market_Price_3_CLS', 'Coll_Market_Price_3_TCS', 'Coll_Market_Price_4_CLS', 'Coll_Market_Price_5_CLS', 'Coll_Nature_Grntee_1_CLS', 'Coll_Nature_Grntee_1_TCS', 'Coll_Percentage_Grnteed_1_CLS', 'Coll_Percentage_Grnteed_1_TCS', 'Coll_Percentage_Grnteed_2_CLS', 'Coll_Percentage_Grnteed_2_TCS', 'Coll_Property_Last_Val_Dt_1_TCS', 'Coll_Property_Last_Val_Dt_2_TCS', 'Coll_Property_Postcode_1_CLS', 'Coll_Property_Postcode_1_TCS', 'Coll_Property_Type_1_CLS', 'Coll_Property_Type_1_TCS', 'Coll_Purchase_Price_1_CLS', 'Coll_Purchase_Price_1_TCS', 'Coll_Purchase_Price_2_TCS', 'Coll_Purchase_Price_3_TCS', 'Coll_Pur_Loan_1_CLS', 'Coll_Pur_Loan_1_TCS', 'Coll_Pur_Loan_2_CLS', 'Coll_Pur_Loan_2_TCS', 'Coll_Pur_Loan_3_CLS', 'Coll_Pur_Loan_3_TCS', 'Coll_Pur_Loan_4_CLS', 'Coll_Pur_Loan_4_TCS', 'Coll_Reserve_Val_1_TCS', 'Coll_Reserve_Val_2_CLS', 'Coll_Reserve_Val_2_TCS', 'Coll_Reserve_Val_Dt_1_TCS', 'Coll_Reserve_Val_Dt_2_TCS', 'Coll_Safe_For_Occupancy_1_TCS', 'Coll_Share_Counter_Cd_1_CLS', 'Coll_Share_Counter_Cd_1_TCS', 'Coll_Share_Qty_1_CLS', 'Coll_Grntor_Type_1_TCS', 'Coll_Valuer_1_CLS', 'Coll_Vehicle_Make_1_TCS', 'Coll_Make_Yr_1_TCS', 'Coll_Make_Yr_2_TCS', 'Coll_Make_Yr_3_TCS', 'Address_Line1_Rule_1_AMS', 'Address_Line1_Rule_1_CPR_1', 'Address_Line1_Rule_1_CPR_2', 'Address_Line1_Rule_1_EAM', 'Address_Line1_Rule_1_MAS', 'Address_Line1_Rule_1_MRX', 'Address_Line1_Rule_1_POR', 'Address_Line1_Rule_1_TCS', 'Address_Line1_Rule_1_Tomswin', 'Address_Line1_Rule_2_AMS', 'Address_Line1_Rule_2_CLS', 'Address_Line1_Rule_2_CPR_1', 'Address_Line1_Rule_2_CPR_2', 'Address_Line1_Rule_2_EAM', 'Address_Line1_Rule_2_MAS', 'Address_Line1_Rule_2_MRX', 'Address_Line1_Rule_2_POR', 'Address_Line1_Rule_2_TCS', 'Address_Line1_Rule_2_Tomswin', 'Address_Line1_Rule_3_AMS', 'Address_Line1_Rule_3_CLS', 'Address_Line1_Rule_3_CPR_1', 'Address_Line1_Rule_3_CPR_2', 'Address_Line1_Rule_3_EAM', 'Address_Line1_Rule_3_MAS', 'Address_Line1_Rule_3_MRX', 'Address_Line1_Rule_3_POR', 'Address_Line1_Rule_3_TCS', 'Address_Line1_Rule_3_Tomswin', 'Address_Line1_Rule_4_AMS', 'Address_Line1_Rule_4_CLS', 'Address_Line1_Rule_4_CPR_1', 'Address_Line1_Rule_4_CPR_2', 'Address_Line1_Rule_4_EAM', 'Address_Line1_Rule_4_MAS', 'Address_Line1_Rule_4_MRX', 'Address_Line1_Rule_4_POR', 'Address_Line1_Rule_4_TCS', 'Address_Line1_Rule_4_Tomswin', 'Address_Line2_Rule_1_AMS', 'Address_Line2_Rule_1_CPR_1', 'Address_Line2_Rule_1_CPR_2', 'Address_Line2_Rule_1_EAM', 'Address_Line2_Rule_1_MAS', 'Address_Line2_Rule_1_POR', 'Address_Line2_Rule_1_TCS', 'Address_Line2_Rule_1_Tomswin', 'Address_Line2_Rule_2_AMS', 'Address_Line2_Rule_2_CLS', 'Address_Line2_Rule_2_CPR_1', 'Address_Line2_Rule_2_CPR_2', 'Address_Line2_Rule_2_EAM', 'Address_Line2_Rule_2_MAS', 'Address_Line2_Rule_2_MRX', 'Address_Line2_Rule_2_POR', 'Address_Line2_Rule_2_TCS', 'Address_Line2_Rule_2_Tomswin', 'Address_Line3_Rule_1_AMS', 'Address_Line3_Rule_1_CPR_1', 'Address_Line3_Rule_1_CPR_2', 'Address_Line3_Rule_1_EAM', 'Address_Line3_Rule_1_MAS', 'Address_Line3_Rule_1_MRX', 'Address_Line3_Rule_1_POR', 'Address_Line3_Rule_1_TCS', 'Address_Line3_Rule_1_Tomswin', 'Address_Line3_Rule_2_AMS', 'Address_Line3_Rule_2_CPR_1', 'Address_Line3_Rule_2_CPR_2', 'Address_Line3_Rule_2_EAM', 'Address_Line3_Rule_2_MAS', 'Address_Line3_Rule_2_MRX', 'Address_Line3_Rule_2_POR', 'Address_Line3_Rule_2_TCS', 'Address_Line3_Rule_2_Tomswin', 'Address_Line4_Rule_1_CPR_1', 'Address_Line4_Rule_1_CPR_2', 'Address_Line4_Rule_1_TCS', 'Address_Line4_Rule_1_Tomswin', 'Address_Line4_Rule_2_CLS', 'Address_Line4_Rule_2_CPR_1', 'Address_Line4_Rule_2_CPR_2', 'Address_Line4_Rule_2_MRX', 'Address_Line4_Rule_2_TCS', 'Address_Line4_Rule_2_Tomswin', 'Email_Rule_1_AMS', 'Email_Rule_1_CPR_1', 'Email_Rule_1_EAM', 'Email_Rule_1_MAS', 'Email_Rule_1_MRX', 'Email_Rule_1_POR', 'Email_Rule_1_TCS', 'Email_Rule_2_AMS', 'Email_Rule_2_CPR_1', 'Email_Rule_2_CPR_2', 'Email_Rule_2_EAM', 'Email_Rule_2_MAS', 'Email_Rule_2_MRX', 'Email_Rule_2_POR', 'Telephone_Number_Rule_1_AMS', 'Telephone_Number_Rule_1_CLS', 'Telephone_Number_Rule_1_CPR_1', 'Telephone_Number_Rule_1_CPR_2', 'Telephone_Number_Rule_1_EAM', 'Telephone_Number_Rule_1_MAS', 'Telephone_Number_Rule_1_MRX', 'Telephone_Number_Rule_1_POR', 'Telephone_Number_Rule_1_TCS', 'Telephone_Number_Rule_1_Tomswin', 'Postcode_Rule_1_AMS', 'Postcode_Rule_1_CLS', 'Postcode_Rule_1_CPR_1', 'Postcode_Rule_1_CPR_2', 'Postcode_Rule_1_EAM', 'Postcode_Rule_1_MAS', 'Postcode_Rule_1_MRX', 'Postcode_Rule_1_POR', 'Postcode_Rule_1_TCS', 'Postcode_Rule_1_Tomswin', 'Postcode_Rule_2_AMS', 'Postcode_Rule_2_CPR_1', 'Postcode_Rule_2_CPR_2', 'Postcode_Rule_2_EAM', 'Postcode_Rule_2_MAS', 'Postcode_Rule_2_MRX', 'Postcode_Rule_2_POR', 'Postcode_Rule_2_TCS', 'State_Cd_Rule_1_CPR_1', 'State_Cd_Rule_1_CPR_2', 'State_Cd_Rule_1_EAM', 'State_Cd_Rule_1_MAS', 'State_Cd_Rule_1_MRX', 'State_Cd_Rule_1_TCS', 'State_Cd_Rule_1_Tomswin', 'Customer_No_Rule_1_POR', 'ORGID_Rule_2_CPR', 'ORGID_Rule_2_MRX', 'ORGID_Rule_2_TCS', 'CIF_CreationDT_Rule1_AMS', 'CIF_CreationDT_Rule1_EAM', 'CIF_CreationDT_Rule1_MAS', 'CIF_CreationDT_Rule1_CLS', 'CIF_CreationDT_Rule1_CPR', 'CIF_CreationDT_Rule1_MRX', 'CIF_CreationDT_Rule1_POR', 'CIF_CreationDT_Rule1_TCS', 'CIF_CreationDT_Rule1_Tomswin', 'Name_Rule_1_AMS', 'Name_Rule_1_CLS', 'Name_Rule_1_CPR_1', 'Name_Rule_1_CPR_2', 'Name_Rule_1_EAM', 'Name_Rule_1_MAS', 'Name_Rule_1_MRX', 'Name_Rule_1_POR', 'Name_Rule_1_TCS', 'Name_Rule_1_Tomswin', 'Name_Rule_1_WMS', 'Name_Rule_2_AMS', 'Name_Rule_2_CLS', 'Name_Rule_2_CPR', 'Name_Rule_2_MAS', 'Name_Rule_2_MRX', 'Name_Rule_2_POR', 'Name_Rule_2_TCS', 'Name_Rule_2_Tomswin', 'Name_Rule_2_WMS', 'Name_Rule_3_AMS', 'Name_Rule_3_CLS', 'Name_Rule_3_CPR', 'Name_Rule_3_EAM', 'Name_Rule_3_MAS', 'Name_Rule_3_MRX', 'Name_Rule_3_POR', 'Name_Rule_3_TCS', 'Name_Rule_3_Tomswin', 'Name_Rule_3_WMS', 'Customer_No_Rule_1_AMS', 'Customer_No_Rule_1_CLS', 'Customer_No_Rule_1_CPR', 'Customer_No_Rule_1_EAM', 'Customer_No_Rule_1_MAS', 'Customer_No_Rule_1_MRX', 'Customer_No_Rule_1_TCS', 'DOB_Rule_1_AMS', 'DOB_Rule_1_CLS', 'DOB_Rule_1_CPR', 'DOB_Rule_1_EAM', 'DOB_Rule_1_MAS', 'DOB_Rule_1_MRX', 'DOB_Rule_1_POR', 'DOB_Rule_1_TCS', 'DOB_Rule_1_Tomswin', 'DOB_Rule_1_WMS', 'DOB_Rule_2_AMS', 'DOB_Rule_2_CLS', 'DOB_Rule_2_CPR', 'DOB_Rule_2_EAM', 'DOB_Rule_2_MAS', 'DOB_Rule_2_MRX', 'DOB_Rule_2_POR', 'DOB_Rule_2_TCS', 'DOB_Rule_2_Tomswin', 'DOB_Rule_2_WMS', 'DOB_Rule_3_AMS', 'DOB_Rule_3_CLS', 'DOB_Rule_3_CPR', 'DOB_Rule_3_EAM', 'DOB_Rule_3_MAS', 'DOB_Rule_3_MRX', 'DOB_Rule_3_POR', 'DOB_Rule_3_TCS', 'DOB_Rule_3_Tomswin', 'DOB_Rule_3_WMS', 'DOB_Rule_4 _AMS', 'DOB_Rule_4 _CLS', 'DOB_Rule_4 _CPR', 'DOB_Rule_4 _EAM', 'DOB_Rule_4 _MAS', 'DOB_Rule_4 _MRX', 'DOB_Rule_4 _POR', 'DOB_Rule_4 _TCS', 'DOB_Rule_4 _Tomswin', 'DOB_Rule_4 _WMS', 'DOR_Rule_1_AMS', 'DOR_Rule_1_CLS', 'DOR_Rule_1_CPR', 'DOR_Rule_1_EAM', 'DOR_Rule_1_MAS', 'DOR_Rule_1_MRX', 'DOR_Rule_1_POR', 'DOR_Rule_1_TCS', 'DOR_Rule_1_Tomswin', 'DOR_Rule_1_WMS', 'DOR_Rule_2_AMS', 'DOR_Rule_2_CLS', 'DOR_Rule_2_CPR', 'DOR_Rule_2_EAM', 'DOR_Rule_2_MAS', 'DOR_Rule_2_MRX', 'DOR_Rule_2_POR', 'DOR_Rule_2_TCS', 'DOR_Rule_3_AMS', 'DOR_Rule_3_CLS', 'DOR_Rule_3_CPR', 'DOR_Rule_3_EAM', 'DOR_Rule_3_MAS', 'DOR_Rule_3_MRX', 'DOR_Rule_3_POR', 'DOR_Rule_3_TCS', 'DOR_Rule_3_Tomswin', 'DOR_Rule_3_WMS', 'Employerâ\\x80\\x99s_Name_Rule_1_CPR', 'Employerâ\\x80\\x99s_Name_Rule_1_POR', 'Employerâ\\x80\\x99s_Name_Rule_2_AMS', 'Employerâ\\x80\\x99s_Name_Rule_2_CLS', 'Employerâ\\x80\\x99s_Name_Rule_2_CPR', 'Employerâ\\x80\\x99s_Name_Rule_2_MAS', 'Employerâ\\x80\\x99s_Name_Rule_2_MRX', 'Employerâ\\x80\\x99s_Name_Rule_2_POR', 'Employerâ\\x80\\x99s_Name_Rule_2_TCS', 'Employment_Sector_Rule_1_CPR', 'Employment_Sector_Rule_1_MAS', 'Employment_Sector_Rule_1_POR', 'Employment_Sector_Rule_2_CLS', 'Employment_Sector_Rule_2_TCS', 'Employment_Sector_Rule_3_CLS', 'Employment_Sector_Rule_3_CPR', 'Employment_Sector_Rule_3_MAS', 'Employment_Sector_Rule_3_MRX', 'Employment_Sector_Rule_3_POR', 'Employment_Sector_Rule_3_TCS', 'Employment_Sector_Rule_4_AMS', 'Employment_Sector_Rule_4_CPR', 'Employment_Sector_Rule_4_MRX', 'Employment_Sector_Rule_4_POR', 'EntTyp_Rule_1_AMS', 'EntTyp_Rule_1_CLS', 'EntTyp_Rule_1_CPR', 'EntTyp_Rule_1_EAM', 'EntTyp_Rule_1_MAS', 'EntTyp_Rule_1_MRX', 'EntTyp_Rule_1_POR', 'EntTyp_Rule_1_TCS', 'EntTyp_Rule_1_Tomswin', 'Gender_Rule_2_AMS', 'Gender_Rule_2_CLS', 'Gender_Rule_2_CPR', 'Gender_Rule_2_MRX', 'Gender_Rule_2_POR', 'Gender_Rule_2_TCS', 'Gender_Rule_2_WMS', 'Gross_Income_Rule_1_CLS', 'Gross_Income_Rule_1_CPR', 'Gross_Income_Rule_1_MRX', 'Gross_Income_Rule_1_POR', 'Gross_Income_Rule_1_TCS', 'IDNum_Rule_1_AMS', 'IDNum_Rule_1_CLS', 'IDNum_Rule_1_CPR', 'IDNum_Rule_1_MAS', 'IDNum_Rule_1_MRX', 'IDNum_Rule_1_POR', 'IDNum_Rule_1_TCS', 'IDNum_Rule_1_Tomswin', 'IDNum_Rule_1_WMS', 'IDNum_Rule_2_AMS', 'IDNum_Rule_2_CLS', 'IDNum_Rule_2_CPR', 'IDNum_Rule_2_MRX', 'IDNum_Rule_2_POR', 'IDNum_Rule_2_TCS', 'IDNum_Rule_2_Tomswin', 'IDNum_Rule_3_EAM', 'IDNum_Rule_3_MRX', 'IDNum_Rule_3_Tomswin', 'IDNum_Rule_4_AMS', 'IDNum_Rule_4_CLS', 'IDNum_Rule_4_CPR', 'IDNum_Rule_4_EAM', 'IDNum_Rule_4_MAS', 'IDNum_Rule_4_MRX', 'IDNum_Rule_4_POR', 'IDNum_Rule_4_Tomswin', 'IDNum_Rule_5_EAM', 'IDNum_Rule_5_MAS', 'IDNum_Rule_6_AMS', 'IDNum_Rule_6_CLS', 'IDNum_Rule_6_CPR', 'IDNum_Rule_6_MRX', 'IDNum_Rule_6_POR', 'IDNum_Rule_6_TCS', 'CTZN_Rule_2_TCS', 'CTZN_Rule_4_AMS', 'CTZN_Rule_4_CLS', 'CTZN_Rule_4_CPR', 'CTZN_Rule_4_EAM', 'CTZN_Rule_4_MAS', 'CTZN_Rule_4_MRX', 'CTZN_Rule_4_POR', 'CTZN_Rule_4_TCS', 'CTZN_Rule_4_Tomswin', 'CTZN_Rule_5_TCS', 'Employment_Sector_Rule_4_MAS', 'Txn_Amt_1_AMS', 'Txn_Amt_1_CLS', 'Txn_Amt_1_EAM', 'Txn_Amt_1_EMC', 'Txn_Amt_1_POR', 'Txn_Amt_1_TCS_1', 'Txn_Amt_1_TCS_2', 'Txn_Dt_1_AMS', 'Txn_Dt_1_CLS', 'Txn_Dt_1_CPR', 'Txn_Dt_1_EAM', 'Txn_Dt_1_EMC', 'Txn_Dt_1_MRX', 'Txn_Dt_1_POR', 'Txn_Dt_1_TCS_1', 'Txn_Dt_1_TCS_2', 'Txn_Dt_1_Tomswin', 'Coll_Grntor_ID_1_CLS', 'Coll_Grntor_ID_1_TCS', 'Coll_Grntor_ID_3_CLS']\n"
     ]
    }
   ],
   "source": [
    "#store values of rule code in list\n",
    "ruleCode_values = []\n",
    "columns = df.columns.to_list()\n",
    "target_columns = ['New_Rule_Code_Format']\n",
    "for index, row in df.iterrows():\n",
    "    for col in target_columns:\n",
    "        ruleCode_value = row[col]\n",
    "        ruleCode_values.append(ruleCode_value)\n",
    "\n",
    "print(ruleCode_values)"
   ]
  },
  {
   "cell_type": "code",
   "execution_count": 58,
   "metadata": {},
   "outputs": [
    {
     "ename": "UnboundLocalError",
     "evalue": "local variable 'tempQuery' referenced before assignment",
     "output_type": "error",
     "traceback": [
      "\u001b[1;31m---------------------------------------------------------------------------\u001b[0m",
      "\u001b[1;31mUnboundLocalError\u001b[0m                         Traceback (most recent call last)",
      "Cell \u001b[1;32mIn[58], line 32\u001b[0m\n\u001b[0;32m     27\u001b[0m updateQuery \u001b[39m=\u001b[39m RC_SCPB(dbSchema, currentTableName, error_code_option, rule_code,\n\u001b[0;32m     28\u001b[0m                 mainTable, subTable, dependencyTable, mainColumn, subColumn, dependencyColumn, \n\u001b[0;32m     29\u001b[0m                 main_query, sub_query, dependency_query)\n\u001b[0;32m     31\u001b[0m \u001b[39m#multiple column per bracket explicit\u001b[39;00m\n\u001b[1;32m---> 32\u001b[0m updateQuery1 \u001b[39m=\u001b[39m RC_MCPB(dbSchema, currentTableName, error_code_option, rule_code,\n\u001b[0;32m     33\u001b[0m                 mainTable, subTable, dependencyTable, mainColumn, subColumn, dependencyColumn, \n\u001b[0;32m     34\u001b[0m                 main_query1, sub_query1, dependency_query1)\n\u001b[0;32m     36\u001b[0m \u001b[39m# write the queries to the file\u001b[39;00m\n\u001b[0;32m     37\u001b[0m f\u001b[39m.\u001b[39mwrite(\u001b[39mf\u001b[39m\u001b[39m\"\u001b[39m\u001b[39mupdateQuery: \u001b[39m\u001b[39m{\u001b[39;00mupdateQuery\u001b[39m}\u001b[39;00m\u001b[39m\\n\u001b[39;00m\u001b[39m\"\u001b[39m)\n",
      "File \u001b[1;32mc:\\Users\\EndUser\\Documents\\GitHub\\DQ_Rules_Job\\java_functions.py:137\u001b[0m, in \u001b[0;36mRC_MCPB\u001b[1;34m(dbSchema, currentTableName, error_code_option, rule_code, mainTable, subTable, dependencyTable, mainColumn, subColumn, dependencyColumn, main_query, sub_query, dependency_query)\u001b[0m\n\u001b[0;32m    135\u001b[0m     tempSubQuery \u001b[39m=\u001b[39m sub_query\n\u001b[0;32m    136\u001b[0m     \u001b[39mfor\u001b[39;00m i \u001b[39min\u001b[39;00m \u001b[39mrange\u001b[39m(\u001b[39mlen\u001b[39m(subColumns)):\n\u001b[1;32m--> 137\u001b[0m         tempQuery \u001b[39m=\u001b[39m tempQuery\u001b[39m.\u001b[39mreplace(\u001b[39m\"\u001b[39m\u001b[39msub_column\u001b[39m\u001b[39m\"\u001b[39m\u001b[39m+\u001b[39m\u001b[39mstr\u001b[39m(i\u001b[39m+\u001b[39m\u001b[39m1\u001b[39m), subColumns[i])\n\u001b[0;32m    138\u001b[0m     tempSubQuery \u001b[39m=\u001b[39m (\u001b[39m\"\u001b[39m\u001b[39m and \u001b[39m\u001b[39m\"\u001b[39m)\u001b[39m.\u001b[39mjoin(tempQuery)\n\u001b[0;32m    139\u001b[0m \u001b[39melse\u001b[39;00m:\n",
      "\u001b[1;31mUnboundLocalError\u001b[0m: local variable 'tempQuery' referenced before assignment"
     ]
    }
   ],
   "source": [
    "#iterator = 0\n",
    "dbSchema = \"dummy_zone\"\n",
    "main_query = \"(main_column = '')\"\n",
    "main_query1 = \"(main_column1 = '') or (main_column2 = '')\"\n",
    "sub_query = \"(`_uuid` in (select subTable.`_uuid` from dbSchema.subTable where subColumn is not null or subTable.subColumn != ''))\"\n",
    "sub_query1 = \"(`_uuid` in (select subTable.`_uuid` from dbSchema.subTable where subColumn is not null or subTable.subColumn != ''))\"\n",
    "dependency_query = \"\"\n",
    "dependency_query1 = \"\"\n",
    "\n",
    "with open('output.txt', 'w') as f:\n",
    "    for iterator in range(len(ruleCode_values)):\n",
    "        currentTableName = currentTable_values[iterator]\n",
    "        error_code_option = \"mandatory\"\n",
    "        rule_code = ruleCode_values[iterator]\n",
    "\n",
    "        mainTable = mainTable_values[iterator]\n",
    "        subTable = str(subTable_values[iterator])\n",
    "        # subTable = \"\"\n",
    "        dependencyTable = str(dependencyTable_values[iterator])\n",
    "        # dependencyTable = \"\"\n",
    "\n",
    "        mainColumn = mainColumn_values[iterator]\n",
    "        subColumn = str(subColumn_values[iterator])\n",
    "        dependencyColumn = str(dependencyColumn_values[iterator])\n",
    "\n",
    "        #single column per bracket implicit\n",
    "        updateQuery = RC_SCPB(dbSchema, currentTableName, error_code_option, rule_code,\n",
    "                        mainTable, subTable, dependencyTable, mainColumn, subColumn, dependencyColumn, \n",
    "                        main_query, sub_query, dependency_query)\n",
    "        \n",
    "        #multiple column per bracket explicit\n",
    "        updateQuery1 = RC_MCPB(dbSchema, currentTableName, error_code_option, rule_code,\n",
    "                        mainTable, subTable, dependencyTable, mainColumn, subColumn, dependencyColumn, \n",
    "                        main_query1, sub_query1, dependency_query1)\n",
    "        \n",
    "        # write the queries to the file\n",
    "        f.write(f\"updateQuery: {updateQuery}\\n\")\n",
    "        f.write(f\"updateQuery1: {updateQuery1}\\n\")"
   ]
  },
  {
   "cell_type": "code",
   "execution_count": 48,
   "metadata": {},
   "outputs": [
    {
     "name": "stdout",
     "output_type": "stream",
     "text": [
      "update dummy_zone.CLMST set `_dq_error_code_mandatory` ='Acc_Open_Dt_1_EAM' where ((CLMST.`C1JNDT` = '')) and (`_uuid` in (select subTable.`_uuid` from dbSchema.subTable where subColumn is not null or subTable.subColumn != ''))\n"
     ]
    }
   ],
   "source": [
    "print(updateQuery)"
   ]
  },
  {
   "cell_type": "code",
   "execution_count": 49,
   "metadata": {},
   "outputs": [
    {
     "name": "stdout",
     "output_type": "stream",
     "text": [
      "update dummy_zone.CLMST set `_dq_error_code_mandatory` ='Acc_Open_Dt_1_EAM' where ((CLMST.`C1JNDT`1 = '') or (CLMST.`C1JNDT`2 = '')) and (`_uuid` in (select subTable.`_uuid` from dbSchema.subTable where subColumn is not null or subTable.subColumn != ''))\n"
     ]
    }
   ],
   "source": [
    "print(updateQuery1)"
   ]
  }
 ],
 "metadata": {
  "kernelspec": {
   "display_name": "first_env",
   "language": "python",
   "name": "python3"
  },
  "language_info": {
   "codemirror_mode": {
    "name": "ipython",
    "version": 3
   },
   "file_extension": ".py",
   "mimetype": "text/x-python",
   "name": "python",
   "nbconvert_exporter": "python",
   "pygments_lexer": "ipython3",
   "version": "3.8.16"
  },
  "orig_nbformat": 4
 },
 "nbformat": 4,
 "nbformat_minor": 2
}
